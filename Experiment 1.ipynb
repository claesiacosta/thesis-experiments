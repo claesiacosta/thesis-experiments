{
 "cells": [
  {
   "cell_type": "code",
   "execution_count": 1,
   "id": "e7379ae6",
   "metadata": {},
   "outputs": [],
   "source": [
    "import openai\n",
    "import tiktoken\n",
    "import pandas as pd\n",
    "import os\n",
    "from nltk.translate.bleu_score import sentence_bleu\n",
    "from rouge_score import rouge_scorer"
   ]
  },
  {
   "cell_type": "code",
   "execution_count": 2,
   "id": "8049a0c2",
   "metadata": {},
   "outputs": [
    {
     "name": "stdout",
     "output_type": "stream",
     "text": [
      "4096\n"
     ]
    }
   ],
   "source": [
    "import api \n",
    "gpt = api.GPT(model='gpt-3.5-turbo')\n",
    "print(gpt.get_model_context_len())"
   ]
  },
  {
   "cell_type": "code",
   "execution_count": 3,
   "id": "095954a5",
   "metadata": {},
   "outputs": [
    {
     "name": "stdout",
     "output_type": "stream",
     "text": [
      "Test Title: Past Simple versus Past Participle\n",
      "\n",
      "Question 1: She (eat) ___________ a delicious cake yesterday.\n",
      "Question 2: They (swim) ___________ in the pool last weekend.\n",
      "Question 3: He (write) ___________ a letter to his friend last night.\n",
      "Question 4: The cat (catch) ___________ a mouse in the garden yesterday.\n",
      "Question 5: We (see) ___________ a shooting star last summer.\n",
      "Question 6: She (break) ___________ her favorite mug this morning.\n",
      "Question 7: They (build) ___________ a sandcastle at the beach yesterday.\n",
      "Question 8: He (lose) ___________ his keys yesterday afternoon.\n",
      "Question 9: The students (study) ___________ for their exams last week.\n",
      "Question 10: The chef (cook) ___________ a delicious meal for the guests last night.\n"
     ]
    }
   ],
   "source": [
    "system_context = \"\"\"\n",
    "You are a teacher specializing in English language education. Your role involves creating educational materials and assessments for your students. \n",
    "You are interested in a test format related to 'Past Simple versus Past Participle' in the English language. \n",
    "\"\"\"\n",
    "prompt = \"\"\"\n",
    "Prepare a test with 10 questions for Past Simple versus Past Participle, in the form of a text with verbs given in base form.\n",
    "Do not offer opinions or analysis; use only the requested information provided.\n",
    "Your response should follow this template: (test title)\\n Question 1: (question generated)\\n etc\n",
    "Don't provide any answer. \n",
    "\"\"\"\n",
    "\n",
    "messages=[{\"role\":\"system\",\"content\": system_context},\n",
    "          {\"role\":\"user\",\"content\": prompt}]\n",
    "\n",
    "responses = gpt.chat(messages) \n",
    "print(responses)"
   ]
  },
  {
   "cell_type": "code",
   "execution_count": 4,
   "id": "36d6526e",
   "metadata": {
    "scrolled": true
   },
   "outputs": [
    {
     "name": "stdout",
     "output_type": "stream",
     "text": [
      "Test Title: Past Simple versus Past Participle\n",
      "\n",
      "Question 1: She (eat) **ate** a delicious cake yesterday.\n",
      "Question 2: They (swim) **swam** in the pool last weekend.\n",
      "Question 3: He (write) **wrote** a letter to his friend last night.\n",
      "Question 4: The cat (catch) **caught** a mouse in the garden yesterday.\n",
      "Question 5: We (see) **saw** a shooting star last summer.\n",
      "Question 6: She (break) **broke** her favorite mug this morning.\n",
      "Question 7: They (build) **built** a sandcastle at the beach yesterday.\n",
      "Question 8: He (lose) **lost** his keys yesterday afternoon.\n",
      "Question 9: The students (study) **studied** for their exams last week.\n",
      "Question 10: The chef (cook) **cooked** a delicious meal for the guests last night.\n"
     ]
    }
   ],
   "source": [
    "system_context = \"\"\"\n",
    "You are a student in an English language class.\n",
    "Your teacher has asked you to complete a test that consists of 10 questions. \n",
    "Your goal is to answer these questions to the best of your ability, demonstrating your understanding of the topic.\n",
    "\"\"\"\n",
    "\n",
    "prompt = \"\"\"\n",
    "The below is a test consisting of 10 questions related to 'Past Simple versus Past Participle.'\n",
    "Please answer the following questions.\n",
    "Your responses should be concise and accurate and should follow this template: (test title)\\n Question 1: (question context) \\n Your answer: \\n\\n etc. \\n```\\n \n",
    "\"\"\"\n",
    "\n",
    "messages=[{\"role\":\"system\",\"content\": system_context},\n",
    "          {\"role\":\"user\",\"content\": prompt + responses}]\n",
    "\n",
    "responses = gpt.chat(messages) \n",
    "print(responses)"
   ]
  },
  {
   "cell_type": "markdown",
   "id": "8ccbe374",
   "metadata": {},
   "source": [
    "# 1. Logic Test"
   ]
  },
  {
   "cell_type": "code",
   "execution_count": 5,
   "id": "a83e7080",
   "metadata": {},
   "outputs": [
    {
     "name": "stdout",
     "output_type": "stream",
     "text": [
      "Abstract Reasoning Challenge Test\n",
      "\n",
      "Question 1: \n",
      "In a certain code, \"APPLE\" is written as \"XKKOV.\" Using the same logic, how would you encode the word \"ORANGE\"?\n",
      "\n",
      "Question 2:\n",
      "Five friends - Alex, Ben, Chris, David, and Eric - each have a different favorite color: red, blue, green, yellow, and purple. From the given clues, determine each person's favorite color:\n",
      "1. Ben's favorite color is not red or blue.\n",
      "2. Chris likes green.\n",
      "3. David's favorite color is not yellow.\n",
      "4. Eric's favorite color is not purple.\n",
      "\n",
      "Question 3:\n",
      "If \"+\" means \"multiply,\" \"-\" means \"divide,\" \"x\" means \"add,\" and \"÷\" means \"subtract,\" what is the value of 8 + 4 x 2 - 6 ÷ 3?\n",
      "\n",
      "Question 4:\n",
      "A set of numbers follows a certain pattern. Find the missing number in the sequence: 3, 6, 12, 24, 48, __?\n",
      "\n",
      "Question 5:\n",
      "Three friends - Alice, Bob, and Charlie - each have a different pet: a cat, a dog, and a rabbit. From the given clues, determine which friend owns which pet:\n",
      "1. Alice does not have a cat.\n",
      "2. Bob owns a pet that is not a rabbit.\n",
      "3. Charlie's pet is not a dog.\n"
     ]
    }
   ],
   "source": [
    "system_context = \"\"\"\n",
    "You are a high school teacher who wants to create a test to assess your students' abstract reasoning skills. \n",
    "Your goal is to generate complex logic puzzles that challenge your students to think creatively and analytically.\n",
    "\"\"\"\n",
    "\n",
    "prompt = \"\"\"\n",
    "Create a logic test with five challenging puzzles. Each puzzle should require abstract reasoning and creativity to solve. \n",
    "Ensure that the answers are not immediately obvious, and that students need to engage in deep critical thinking.\n",
    "\n",
    "Do not offer opinions or analysis; use only the requested information provided.\n",
    "Your response should follow this template: (test title)\\n Question 1: (question generated)\\n etc. \n",
    "\"\"\"\n",
    "\n",
    "messages=[{\"role\":\"system\",\"content\": system_context},\n",
    "          {\"role\":\"user\",\"content\": prompt}]\n",
    "\n",
    "responses = gpt.chat(messages) \n",
    "print(responses)"
   ]
  },
  {
   "cell_type": "code",
   "execution_count": 6,
   "id": "b6b95dcc",
   "metadata": {},
   "outputs": [
    {
     "name": "stdout",
     "output_type": "stream",
     "text": [
      "Abstract Reasoning Challenge Test\n",
      "\n",
      "Question 1:\n",
      "Your answer: ORANGE would be encoded as \"LKMJTI.\"\n",
      "\n",
      "Question 2:\n",
      "Your answer:\n",
      "- Alex: Yellow\n",
      "- Ben: Purple\n",
      "- Chris: Green\n",
      "- David: Red\n",
      "- Eric: Blue\n",
      "\n",
      "Question 3:\n",
      "Your answer: The value of 8 + 4 x 2 - 6 ÷ 3 is 17.\n",
      "\n",
      "Question 4:\n",
      "Your answer: The missing number in the sequence is 96.\n",
      "\n",
      "Question 5:\n",
      "Your answer:\n",
      "- Alice: Rabbit\n",
      "- Bob: Dog\n",
      "- Charlie: Cat\n"
     ]
    }
   ],
   "source": [
    "system_context = \"\"\"\n",
    "You are a student in a high school student.\n",
    "Your teacher has asked you to complete a test that consists of 5 questions. \n",
    "Your goal is to answer these questions to the best of your ability, demonstrating your understanding of the topic.\n",
    "\"\"\"\n",
    "\n",
    "prompt = \"\"\"\n",
    "The below is a logic test consisting of 5 questions'\n",
    "Please answer the following questions.\n",
    "Your responses should be concise and accurate and should follow this template: (test title)\\n Question 1: (question context) \\n Your answer: \\n\\n etc. \\n```\\n \n",
    "\"\"\"\n",
    "\n",
    "messages=[{\"role\":\"system\",\"content\": system_context},\n",
    "          {\"role\":\"user\",\"content\": prompt + responses}]\n",
    "\n",
    "responses = gpt.chat(messages) \n",
    "print(responses)"
   ]
  },
  {
   "cell_type": "markdown",
   "id": "8ba3c68f",
   "metadata": {},
   "source": [
    "# 2. Text Analysis Test"
   ]
  },
  {
   "cell_type": "code",
   "execution_count": 7,
   "id": "a237eab3",
   "metadata": {},
   "outputs": [
    {
     "name": "stdout",
     "output_type": "stream",
     "text": [
      "Test Title: Ambiguity and Contradiction Analysis\n",
      "\n",
      "Text 1:\n",
      "In the dimly lit room, she saw a shadowy figure standing by the window. As she approached, the figure vanished into thin air, leaving behind a faint scent of roses.\n",
      "\n",
      "Text 2:\n",
      "The old man claimed to have seen a UFO hovering above the lake, emitting a bright light that illuminated the entire area. However, no one else in the town reported seeing anything unusual that night.\n",
      "\n",
      "Text 3:\n",
      "The detective found a torn piece of paper with a cryptic message written in a language he couldn't decipher. It read, \"The key lies within the heart of the labyrinth.\"\n",
      "\n",
      "Text 4:\n",
      "The scientist conducted an experiment that seemed to defy the laws of physics, causing a stir in the scientific community. Some hailed it as a breakthrough, while others dismissed it as a hoax.\n",
      "\n",
      "Text 5:\n",
      "As the clock struck midnight, the door creaked open on its own, revealing a staircase leading down into darkness. Despite the warnings, she felt compelled to descend into the unknown.\n"
     ]
    }
   ],
   "source": [
    "system_context = \"\"\"\n",
    "You are a high school teacher who wants to assess your students' ability to comprehend complex texts. \n",
    "Your goal is to create a test with a complex and ambiguous text that requires detailed analysis.\n",
    "\"\"\"\n",
    "\n",
    "prompt = \"\"\"\n",
    "Create a test that includes 5 complex and ambiguous text. Students must read the text and identify all ambiguities and contradictions present in it. \n",
    "Ensure that the text is challenging enough to require thorough analysis.\n",
    "\n",
    "Do not offer opinions or analysis; use only the requested information provided.\n",
    "Your response should follow this template: (test title)\\n Text 1: (text generated)\\n etc. \n",
    "\"\"\"\n",
    "\n",
    "messages=[{\"role\":\"system\",\"content\": system_context},\n",
    "          {\"role\":\"user\",\"content\": prompt}]\n",
    "\n",
    "responses = gpt.chat(messages) \n",
    "print(responses)"
   ]
  },
  {
   "cell_type": "code",
   "execution_count": 8,
   "id": "60ee193e",
   "metadata": {},
   "outputs": [
    {
     "name": "stdout",
     "output_type": "stream",
     "text": [
      "Test Title: Ambiguity and Contradiction Analysis\n",
      "\n",
      "Text 1: (text context)\n",
      "In the dimly lit room, she saw a shadowy figure standing by the window. As she approached, the figure vanished into thin air, leaving behind a faint scent of roses.\n",
      "\n",
      "Your answer: This text presents ambiguity through the mysterious disappearance of the figure and the lingering scent of roses, leaving the reader questioning the reality of what was witnessed.\n",
      "\n",
      "Text 2: (text context)\n",
      "The old man claimed to have seen a UFO hovering above the lake, emitting a bright light that illuminated the entire area. However, no one else in the town reported seeing anything unusual that night.\n",
      "\n",
      "Your answer: This text introduces a contradiction between the old man's claim of seeing a UFO and the lack of corroborating reports from others, creating uncertainty about the truth of the sighting.\n",
      "\n",
      "Text 3: (text context)\n",
      "The detective found a torn piece of paper with a cryptic message written in a language he couldn't decipher. It read, \"The key lies within the heart of the labyrinth.\"\n",
      "\n",
      "Your answer: This text contains ambiguity through the cryptic message on the torn paper, hinting at a hidden meaning or puzzle that the detective must unravel, adding a layer of mystery to the narrative.\n",
      "\n",
      "Text 4: (text context)\n",
      "The scientist conducted an experiment that seemed to defy the laws of physics, causing a stir in the scientific community. Some hailed it as a breakthrough, while others dismissed it as a hoax.\n",
      "\n",
      "Your answer: This text showcases contradiction as the scientist's experiment elicits both praise and skepticism from the scientific community, highlighting the conflicting interpretations and uncertainties surrounding the results.\n",
      "\n",
      "Text 5: (text context)\n",
      "As the clock struck midnight, the door creaked open on its own, revealing a staircase leading down into darkness. Despite the warnings, she felt compelled to descend into the unknown.\n",
      "\n",
      "Your answer: This text presents ambiguity through the eerie setting of the door opening on its own and the protagonist's conflicting emotions of fear and curiosity, creating tension and uncertainty about what lies ahead.\n"
     ]
    }
   ],
   "source": [
    "system_context = \"\"\"\n",
    "You are a student in a high school student.\n",
    "Your teacher has asked you to complete a test that consists of 5 questions. \n",
    "Your goal is to answer these questions to the best of your ability, demonstrating your understanding of the topic.\n",
    "\"\"\"\n",
    "\n",
    "prompt = \"\"\"\n",
    "The below is a test consisting of 5 questions'\n",
    "Please answer the following questions.\n",
    "Your responses should be concise and accurate and should follow this template: (test title)\\n Text 1: (text context) \\n Your answer: \\n\\n etc. \\n```\\n \n",
    "\"\"\"\n",
    "\n",
    "messages=[{\"role\":\"system\",\"content\": system_context},\n",
    "          {\"role\":\"user\",\"content\": prompt + responses}]\n",
    "\n",
    "responses = gpt.chat(messages) \n",
    "print(responses)"
   ]
  },
  {
   "cell_type": "markdown",
   "id": "9d567b36",
   "metadata": {},
   "source": [
    "# 3 Complex Math Problems"
   ]
  },
  {
   "cell_type": "code",
   "execution_count": 9,
   "id": "3d1fbdf9",
   "metadata": {},
   "outputs": [
    {
     "name": "stdout",
     "output_type": "stream",
     "text": [
      "(Test Title: Advanced Math Challenge Test)\n",
      "\n",
      "Question 1: \n",
      "Consider the function f(x) = x^3 - 4x^2 + 5x - 2. Find the critical points of f(x) and determine whether each point is a local minimum, local maximum, or neither.\n",
      "\n",
      "Question 2:\n",
      "Evaluate the limit as x approaches 0 of (1-cos(3x))/(x^2).\n",
      "\n",
      "Question 3:\n",
      "Given the curve defined by y = 2x^3 - 3x^2 + 6x - 5, find the area enclosed by the curve, the x-axis, and the lines x = 0 and x = 2.\n",
      "\n",
      "Question 4:\n",
      "Solve the differential equation dy/dx = 2x^2 + 3x, subject to the initial condition y(0) = 1.\n",
      "\n",
      "Question 5:\n",
      "A particle moves along the x-axis with velocity v(t) = 3t^2 - 6t + 2. Find the total distance traveled by the particle from t = 0 to t = 3.\n"
     ]
    }
   ],
   "source": [
    "system_context = \"\"\"\n",
    "You are a high school math teacher preparing a challenging math test for your advanced students.\n",
    "Your goal is to generate questions that involve complex mathematical concepts that go beyond standard curriculum, making it a true test of their advanced math skills.\n",
    "\"\"\"\n",
    " \n",
    "prompt = \"\"\"\n",
    "Create a math test consisting of five advanced questions. Each question should involve multiple-step calculations, including concepts like integration, differentiation, and limits. \n",
    "Ensure that the questions are non-standard and require deep mathematical thinking.\n",
    "\n",
    "Do not offer opinions or analysis; use only the requested information provided.\n",
    "Your response should follow this template: (test title)\\n Question 1: (Question generated)\\n etc. \n",
    "\"\"\"\n",
    "\n",
    "messages=[{\"role\":\"system\",\"content\": system_context},\n",
    "          {\"role\":\"user\",\"content\": prompt}]\n",
    "\n",
    "responses = gpt.chat(messages) \n",
    "print(responses)"
   ]
  },
  {
   "cell_type": "code",
   "execution_count": 10,
   "id": "e6b33103",
   "metadata": {},
   "outputs": [
    {
     "name": "stdout",
     "output_type": "stream",
     "text": [
      "(Test Title: Advanced Math Challenge Test)\n",
      "\n",
      "Question 1: \n",
      "Critical points of f(x) are found by setting f'(x) = 0. \n",
      "f'(x) = 3x^2 - 8x + 5. \n",
      "Setting f'(x) = 0 gives x = 1 and x = 5/3. \n",
      "To determine the nature of the critical points, use the second derivative test. \n",
      "f''(x) = 6x - 8. \n",
      "Evaluate f''(1) and f''(5/3) to determine if they are local minima, maxima, or neither.\n",
      "\n",
      "Question 2:\n",
      "To evaluate the limit, use L'Hopital's Rule or trigonometric identities to simplify the expression and then substitute x = 0 to find the limit.\n",
      "\n",
      "Question 3:\n",
      "To find the area enclosed by the curve and the x-axis, integrate the absolute value of the function between x = 0 and x = 2.\n",
      "\n",
      "Question 4:\n",
      "To solve the differential equation, integrate both sides with respect to x and use the initial condition to find the constant of integration.\n",
      "\n",
      "Question 5:\n",
      "To find the total distance traveled, calculate the definite integral of the absolute value of the velocity function from t = 0 to t = 3.\n"
     ]
    }
   ],
   "source": [
    "system_context = \"\"\"\n",
    "You are a student in a high school student.\n",
    "Your teacher has asked you to complete a test that consists of 5 questions. \n",
    "Your goal is to answer these questions to the best of your ability, demonstrating your understanding of the topic.\n",
    "\"\"\"\n",
    "\n",
    "prompt = \"\"\"\n",
    "The below is a test consisting of 5 questions'\n",
    "Please answer the following questions.\n",
    "Your responses should be concise and accurate and should follow this template: (test title)\\n Question 1: (question context) \\n Your answer: \\n\\n etc. \\n```\\n \n",
    "\"\"\"\n",
    "\n",
    "messages=[{\"role\":\"system\",\"content\": system_context},\n",
    "          {\"role\":\"user\",\"content\": prompt + responses}]\n",
    "\n",
    "responses = gpt.chat(messages) \n",
    "print(responses)"
   ]
  },
  {
   "cell_type": "markdown",
   "id": "7adf9553",
   "metadata": {},
   "source": [
    "# 4 Physics problems"
   ]
  },
  {
   "cell_type": "code",
   "execution_count": 11,
   "id": "2137acc5",
   "metadata": {},
   "outputs": [
    {
     "name": "stdout",
     "output_type": "stream",
     "text": [
      "**Advanced Physics Test: Dynamics and Electricity**\n",
      "\n",
      "Text 1: \n",
      "A particle of mass m is attached to a spring with spring constant k. The particle is initially at rest at the equilibrium position. Suddenly, a constant force F is applied to the particle in the direction of the equilibrium position. Calculate the amplitude of the resulting simple harmonic motion.\n",
      "\n",
      "Text 2:\n",
      "Two parallel long wires carry currents I1 and I2 in the same direction. The wires are a distance d apart. Determine the force per unit length between the two wires due to their magnetic interaction.\n",
      "\n",
      "Text 3:\n",
      "A block of mass M is placed on a frictionless incline of angle θ. A horizontal force F is applied to the block, causing it to move up the incline with a constant velocity. Calculate the coefficient of kinetic friction between the block and the incline.\n",
      "\n",
      "Text 4:\n",
      "A conducting loop is placed in a region of changing magnetic field. Determine the direction of the induced current in the loop using Lenz's Law when the magnetic field is increasing in magnitude.\n",
      "\n",
      "Text 5:\n",
      "A charged particle of mass m and charge q is released from rest in a uniform electric field E. Calculate the time it takes for the particle to reach a specific velocity v in the direction of the electric field.\n"
     ]
    }
   ],
   "source": [
    "system_context = \"\"\"\n",
    "You are a high school physics teacher designing a test for your advanced physics class. \n",
    "Your goal is to create questions that delve into complex physics theories, challenging your students' understanding of advanced concepts.\n",
    "\"\"\"\n",
    "\n",
    "prompt = \"\"\"\n",
    "Prepare a physics test with 5 questions based on advanced physics concepts. \n",
    "These questions should involve theoretical aspects or complex problem-solving related to dynamic systems and electricity and magnetism. \n",
    "Ensure that the question is challenging enough to require thorough analysis.\n",
    "\n",
    "Do not offer opinions or analysis; use only the requested information provided.\n",
    "Your response should follow this template: (test title)\\n Text 1: (text generated)\\n etc. \n",
    "\"\"\"\n",
    "\n",
    "messages=[{\"role\":\"system\",\"content\": system_context},\n",
    "          {\"role\":\"user\",\"content\": prompt}]\n",
    "\n",
    "responses = gpt.chat(messages) \n",
    "print(responses)"
   ]
  },
  {
   "cell_type": "code",
   "execution_count": 12,
   "id": "733fe7b4",
   "metadata": {},
   "outputs": [
    {
     "name": "stdout",
     "output_type": "stream",
     "text": [
      "**Advanced Physics Test: Dynamics and Electricity**\n",
      "\n",
      "Question 1: (Simple Harmonic Motion)\n",
      "Your answer: The amplitude of the resulting simple harmonic motion is given by A = F/k, where F is the applied force and k is the spring constant.\n",
      "\n",
      "Question 2: (Magnetic Interaction)\n",
      "Your answer: The force per unit length between the two wires is given by F = μ₀I1I2/(2πd), where μ₀ is the permeability of free space, I1 and I2 are the currents, and d is the distance between the wires.\n",
      "\n",
      "Question 3: (Coefficient of Kinetic Friction)\n",
      "Your answer: The coefficient of kinetic friction μk = tan(θ), where θ is the angle of the incline.\n",
      "\n",
      "Question 4: (Lenz's Law)\n",
      "Your answer: The induced current in the loop will be in a direction that opposes the change in magnetic field, following Lenz's Law.\n",
      "\n",
      "Question 5: (Charged Particle in Electric Field)\n",
      "Your answer: The time it takes for the particle to reach velocity v is given by t = (m*v)/(q*E), where m is the mass, q is the charge, v is the velocity, and E is the electric field strength.\n"
     ]
    }
   ],
   "source": [
    "system_context = \"\"\"\n",
    "You are a student in a high school student.\n",
    "Your teacher has asked you to complete a test that consists of 5 questions. \n",
    "Your goal is to answer these questions to the best of your ability, demonstrating your understanding of the topic.\n",
    "\"\"\"\n",
    "\n",
    "prompt = \"\"\"\n",
    "The below is a test consisting of 5 questions'\n",
    "Please answer the following questions.\n",
    "Your responses should be concise and accurate and should follow this template: (test title)\\n Question 1: (question context) \\n Your answer: \\n\\n etc. \\n```\\n \n",
    "\"\"\"\n",
    "\n",
    "messages=[{\"role\":\"system\",\"content\": system_context},\n",
    "          {\"role\":\"user\",\"content\": prompt + responses}]\n",
    "\n",
    "responses = gpt.chat(messages) \n",
    "print(responses)"
   ]
  },
  {
   "cell_type": "markdown",
   "id": "208851ec",
   "metadata": {},
   "source": [
    "# 5 Advanced Programming Tests"
   ]
  },
  {
   "cell_type": "code",
   "execution_count": 13,
   "id": "c919441a",
   "metadata": {},
   "outputs": [
    {
     "name": "stdout",
     "output_type": "stream",
     "text": [
      "**Advanced Programming Test: Challenge Your Skills**\n",
      "\n",
      "Question 1: \n",
      "You are given a list of integers. Write a function in Python to find the longest increasing subsequence in the list. Your function should have a time complexity of O(n log n).\n",
      "\n",
      "Question 2:\n",
      "Implement a function in C++ to efficiently find the kth smallest element in a sorted matrix of size n x n, where each row and column are sorted in ascending order. Your solution should have a time complexity of O(n log(max-min)), where max and min are the maximum and minimum elements in the matrix.\n",
      "\n",
      "Question 3:\n",
      "Design an algorithm in Java to efficiently find the maximum sum subarray within a circular array. The circular array wraps around, so the first element follows the last element. Your algorithm should have a time complexity of O(n) and should not use extra space.\n",
      "\n",
      "Question 4:\n",
      "You are given a weighted directed graph represented as an adjacency list. Write a function in Python to find the shortest path from a given source node to all other nodes using Dijkstra's algorithm. Ensure that your implementation handles negative edge weights efficiently.\n",
      "\n",
      "Question 5:\n",
      "Implement a data structure in C# that supports the following operations efficiently:\n",
      "- Insertion of a key-value pair\n",
      "- Deletion of a key-value pair\n",
      "- Finding the key with the maximum value\n",
      "- Finding the key with the minimum value\n",
      "Your data structure should have a time complexity of O(log n) for each operation.\n"
     ]
    }
   ],
   "source": [
    "system_context = \"\"\"\n",
    "You are a high school computer science instructor creating a programming test for your advanced students. \n",
    "Your goal is to craft questions that require knowledge of advanced algorithms and data structures, posing a significant challenge even for experienced programmers.\n",
    "\"\"\"\n",
    "\n",
    "prompt = \"\"\"\n",
    "Creat a programming test with 5 questions that demand the application of advanced algorithms, optimization techniques, or complex data structures. \n",
    "Ensure that the questions go beyond standard programming tasks and require deep problem-solving skills.\n",
    "\n",
    "Do not offer opinions or analysis; use only the requested information provided.\n",
    "Your response should follow this template: (test title)\\n Question 1: (question generated)\\n etc. \n",
    "\"\"\"\n",
    "\n",
    "messages=[{\"role\":\"system\",\"content\": system_context},\n",
    "          {\"role\":\"user\",\"content\": prompt}]\n",
    "\n",
    "responses = gpt.chat(messages) \n",
    "print(responses)"
   ]
  },
  {
   "cell_type": "code",
   "execution_count": 14,
   "id": "384cd2f4",
   "metadata": {},
   "outputs": [
    {
     "name": "stdout",
     "output_type": "stream",
     "text": [
      "**Advanced Programming Test: Challenge Your Skills**\n",
      "\n",
      "Question 1: \n",
      "To find the longest increasing subsequence in a list of integers in Python with a time complexity of O(n log n), you can use the Patience Sorting algorithm or the Dynamic Programming approach.\n",
      "\n",
      "Question 2:\n",
      "To efficiently find the kth smallest element in a sorted matrix of size n x n in C++ with a time complexity of O(n log(max-min)), you can use the binary search approach to find the kth element within the range of min and max values.\n",
      "\n",
      "Question 3:\n",
      "To find the maximum sum subarray within a circular array in Java with a time complexity of O(n) without using extra space, you can modify Kadane's algorithm to handle the circular array by considering both the maximum subarray sum and the minimum subarray sum.\n",
      "\n",
      "Question 4:\n",
      "To find the shortest path from a given source node to all other nodes in a weighted directed graph using Dijkstra's algorithm in Python efficiently handling negative edge weights, you can implement the algorithm with a priority queue (min-heap) to achieve a time complexity of O((V + E) log V).\n",
      "\n",
      "Question 5:\n",
      "To implement a data structure in C# supporting efficient operations like insertion, deletion, finding the key with the maximum value, and finding the key with the minimum value with a time complexity of O(log n) for each operation, you can use a combination of a balanced binary search tree (like Red-Black Tree) and a hash map to achieve the desired complexities for the operations.\n"
     ]
    }
   ],
   "source": [
    "system_context = \"\"\"\n",
    "You are a student in a high school student.\n",
    "Your teacher has asked you to complete a test that consists of 5 questions. \n",
    "Your goal is to answer these questions to the best of your ability, demonstrating your understanding of the topic.\n",
    "\"\"\"\n",
    "\n",
    "prompt = \"\"\"\n",
    "The below is a test consisting of 5 questions'\n",
    "Please answer the following questions.\n",
    "Your responses should be concise and accurate and should follow this template: (test title)\\n Question 1: (question context) \\n Your answer: \\n\\n etc. \\n```\\n \n",
    "\"\"\"\n",
    "\n",
    "messages=[{\"role\":\"system\",\"content\": system_context},\n",
    "          {\"role\":\"user\",\"content\": prompt + responses}]\n",
    "\n",
    "responses = gpt.chat(messages) \n",
    "print(responses)"
   ]
  },
  {
   "cell_type": "code",
   "execution_count": null,
   "id": "5d1a34ce",
   "metadata": {},
   "outputs": [],
   "source": []
  },
  {
   "cell_type": "code",
   "execution_count": null,
   "id": "236b74f7",
   "metadata": {},
   "outputs": [],
   "source": []
  },
  {
   "cell_type": "code",
   "execution_count": null,
   "id": "d1fdbc49",
   "metadata": {},
   "outputs": [],
   "source": []
  },
  {
   "cell_type": "code",
   "execution_count": null,
   "id": "f891bc0c",
   "metadata": {},
   "outputs": [],
   "source": []
  },
  {
   "cell_type": "code",
   "execution_count": null,
   "id": "6d5fee8e",
   "metadata": {},
   "outputs": [],
   "source": []
  }
 ],
 "metadata": {
  "kernelspec": {
   "display_name": "hiring_task_env",
   "language": "python",
   "name": "hiring_task_env"
  },
  "language_info": {
   "codemirror_mode": {
    "name": "ipython",
    "version": 3
   },
   "file_extension": ".py",
   "mimetype": "text/x-python",
   "name": "python",
   "nbconvert_exporter": "python",
   "pygments_lexer": "ipython3",
   "version": "3.9.9"
  }
 },
 "nbformat": 4,
 "nbformat_minor": 5
}
