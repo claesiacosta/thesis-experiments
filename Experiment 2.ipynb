{
 "cells": [
  {
   "cell_type": "code",
   "execution_count": 1,
   "id": "e7379ae6",
   "metadata": {},
   "outputs": [],
   "source": [
    "import openai\n",
    "import tiktoken\n",
    "import pandas as pd\n",
    "import os\n",
    "from nltk.translate.bleu_score import sentence_bleu\n",
    "from rouge_score import rouge_scorer"
   ]
  },
  {
   "cell_type": "code",
   "execution_count": 2,
   "id": "85690ffe",
   "metadata": {},
   "outputs": [],
   "source": [
    "import api \n",
    "gpt = api.GPT(model='gpt-3.5-turbo')"
   ]
  },
  {
   "cell_type": "code",
   "execution_count": 3,
   "id": "9a279d93",
   "metadata": {},
   "outputs": [
    {
     "name": "stdout",
     "output_type": "stream",
     "text": [
      "{'rougeL': Score(precision=0.8571428571428571, recall=1.0, fmeasure=0.923076923076923)}\n",
      "8.44484326442819e-78\n"
     ]
    },
    {
     "name": "stderr",
     "output_type": "stream",
     "text": [
      "/Users/claesia/hiring_task_env/lib/python3.9/site-packages/nltk/translate/bleu_score.py:552: UserWarning: \n",
      "The hypothesis contains 0 counts of 4-gram overlaps.\n",
      "Therefore the BLEU score evaluates to 0, independently of\n",
      "how many N-gram overlaps of lower order it contains.\n",
      "Consider using lower n-gram order or use SmoothingFunction()\n",
      "  warnings.warn(_msg)\n"
     ]
    }
   ],
   "source": [
    "scorer = rouge_scorer.RougeScorer(['rougeL'], use_stemmer=True) # ROUGE-L measures the longest common subsequence (LCS) between the candidate text and the reference text.\n",
    "\n",
    "candidate_summary = \"the cat was found under the bed\"\n",
    "reference_summary = \"the cat was under the bed\"\n",
    "scores = scorer.score(reference_summary, candidate_summary)\n",
    "print(scores)\n",
    "\n",
    "# BLEU score measures the similarity between the candidate text and the reference text using n-grams, which are contiguous sequences of n words\n",
    "print(sentence_bleu([reference_summary.split()], candidate_summary.split()))\n",
    "\n",
    "#for key in scores:\n",
    "    #print(f'{key}: {scores[key]}')"
   ]
  },
  {
   "cell_type": "code",
   "execution_count": 4,
   "id": "068d0151",
   "metadata": {},
   "outputs": [],
   "source": [
    "def gpt_chat(model, system_context, prompt, context_len):\n",
    "    \n",
    "    messages=[{\"role\":\"system\",\"content\": system_context},\n",
    "          {\"role\":\"user\",\"content\": prompt}]\n",
    "\n",
    "    token_count = num_tokens_from_string(messages)\n",
    "    responses = chat(model, messages, max_tokens = context_len-token_count) \n",
    "    \n",
    "    return responses"
   ]
  },
  {
   "cell_type": "code",
   "execution_count": 5,
   "id": "cb4f7d8b",
   "metadata": {},
   "outputs": [],
   "source": [
    "system_context_pt = \"\"\"\n",
    "Você é um professor e sua função envolve a criação de materiais educacionais e avaliações para seus alunos. \n",
    "\"\"\"\n",
    "\n",
    "prompt_sub_pt = \"\"\"\n",
    "Prepare um teste com 10 perguntas subjetivas com base no texto fornecido abaixo. \n",
    "Não ofereça opiniões ou análises; use apenas as informações solicitadas fornecidas. \n",
    "Não forneça o gabarito.\n",
    "Suas perguntas deve seguir este modelo: (título do teste)\\n Pergunta 1: (pergunta gerada)\\n etc.\n",
    "\"\"\"\n",
    "\n",
    "prompt_obj_pt = \"\"\"\n",
    "Prepare um teste com 10 perguntas com base no texto fornecido abaixo. \n",
    "Não ofereça opiniões ou análises; use apenas as informações solicitadas fornecidas. \n",
    "Não forneça o gabarito.\n",
    "Suas perguntas deve seguir este modelo: (título do teste)\\n Pergunta 1: (pergunta gerada)\\n etc.\n",
    "\"\"\"\n",
    "\n",
    "system_context_en = \"\"\"\n",
    "You are a teacher and your role involves creating educational materials and assessments for your students. \n",
    "\"\"\"\n",
    "\n",
    "prompt_obj_en = \"\"\"\n",
    "Prepare a test with 10 questions based on the text provided below.\n",
    "Do not offer opinions or analysis; use only the requested information provided.\n",
    "Do not provide the answer key.\n",
    "Your response should follow this template: (test title)\\n Question 1: (question generated)\\n etc. \n",
    "\"\"\"\n",
    "prompt_sub_en = \"\"\"\n",
    "Prepare a test with 10 subjective questions based on the text provided below.\n",
    "Do not offer opinions or analysis; use only the requested information provided.\n",
    "Do not provide the answer key.\n",
    "Your response should follow this template: (test title)\\n Question 1: (question generated)\\n etc. \n",
    "\"\"\""
   ]
  },
  {
   "cell_type": "code",
   "execution_count": 6,
   "id": "36d6526e",
   "metadata": {
    "scrolled": true
   },
   "outputs": [],
   "source": [
    "system_context_stud_pt = \"\"\"\n",
    "Você é um estudante e seu professor pediu que você complete um teste com 10 perguntas. \n",
    "Seu objetivo é responder a essas perguntas da melhor forma possível, demonstrando sua compreensão do tópico.\n",
    "\"\"\"\n",
    "\n",
    "prompt_stud_pt = \"\"\"\n",
    "O teste a seguir consiste em 10 perguntas.\n",
    "Por favor, responda às perguntas a seguir. \n",
    "Suas respostas devem ser concisas e precisas e devem seguir este modelo: (título do teste)\\n Pergunta 1: (contexto da pergunta) \\n Sua resposta: \\n\\n etc. \\n```\\n \n",
    "\"\"\"\n",
    "\n",
    "system_context_stud_en = \"\"\"\n",
    "You are a student and your teacher has asked you to complete a test that consists of 10 questions. \n",
    "Your goal is to answer these questions to the best of your ability, demonstrating your understanding of the topic.\n",
    "\"\"\"\n",
    "\n",
    "prompt_stud_en = \"\"\"\n",
    "The below is a test consisting of 10 questions.\n",
    "Please answer the following questions.\n",
    "Your responses should be concise and accurate and should follow this template: (test title)\\n Question 1: (question context) \\n Your answer: \\n\\n etc. \\n```\\n \n",
    "\"\"\""
   ]
  },
  {
   "cell_type": "code",
   "execution_count": 7,
   "id": "08f51ea8",
   "metadata": {},
   "outputs": [],
   "source": [
    "add_pt = \"\\n Use o texto acima como base para responder o teste.\"\n",
    "add_en = \"\\n Use the text below as a basis to answer the test.\""
   ]
  },
  {
   "cell_type": "code",
   "execution_count": 8,
   "id": "06bac29c",
   "metadata": {},
   "outputs": [],
   "source": [
    "texto = \"\"\"\n",
    "\\n\\nO ano de 1492 foi marcado pelo choque entre dois mundos diferentes, de um lado, a cultura europeia, e de outro, a cultura indígena. Trata-se do início da colonização da América, promovida, principalmente, por portugueses e espanhóis em suas buscas por riquezas e conquistas. Outra data de caráter simbólico importante para a história é a de 1494, quando foi assinado o Tratado de Tordesilhas.\n",
    "O Tratado de Tordesilhas foi um acordo político entre os países ibéricos, Portugal e Espanha, para oficializar a divisão do novo continente encontrado. O tratado definia como linha imaginária uma demarcação no meridiano localizado a 370 léguas a oeste da ilha de Cabo Verde. As terras que se localizavam a leste pertenceriam aos portugueses e as terras a oeste ficariam com os espanhóis. \n",
    "Em 1500, os navios portugueses ancoraram no litoral brasileiro, dando início ao que os historiadores chamaram de América Portuguesa. O período correspondente aos trinta primeiros anos (1500-1530) das expedições portuguesas no Brasil foi denominado de Período Pré-Colonial, ou seja, foi um momento em que Portugal ainda estava investigando as riquezas desse “novo mundo”.\n",
    "Após esse momento, na expedição sob a liderança de Martin Afonso de Souza, em 1530, os portugueses resolveram oficializar a colonização brasileira por receio de perder o território para outros países europeus e pela perspectiva de descobrir riquezas e obter lucros. Uma das maneiras de assegurar o território brasileiro era povoando-o, para isso, o rei de Portugal, em 1534, criou as chamadas capitanias hereditárias. Essas capitanias representavam largas faixas de terras sob o poder dos capitães donatários que tinham o objetivo de distribui-las para gerar povoamentos e, claro, lucros à coroa.\n",
    "Porém, esse tipo de governo com um capitão donatário para cada faixa de terra não deu certo e o controle da colônia ficou a cargo de Tomé de Souza, o primeiro governador-geral do Brasil, a partir de 1548. Sua função era de controlar as capitanias e praticar as sesmarias. As terras, portanto, não possuíam valor financeiro, pois eram distribuídas e não vendidas.\n",
    "No decorrer político da colonização brasileira, houve o período denominado de União Ibérica (1580 – 1640), em que a colônia ficou sob o controle da Espanha pelo problema na sucessão do trono português. Após o fim da União Ibérica, a coroa portuguesa expulsou os espanhóis e voltou a ter o monopólio da colônia.\n",
    "O século XVIII na colônia foi marcado por uma forte agitação nas descobertas das minas de ouro, gerando grande entusiasmo por parte dos portugueses. Várias cidades do Brasil surgiram pela busca do ouro, entre elas estão Diamantina e Ouro Preto. A colonização estendeu-se até meados do século XIX, quando em Sete de Setembro de 1822, o Brasil conseguiu sua independência, inaugurando o Período Imperial.\"\n",
    "\"\"\""
   ]
  },
  {
   "cell_type": "code",
   "execution_count": 9,
   "id": "14c28715",
   "metadata": {},
   "outputs": [
    {
     "name": "stdout",
     "output_type": "stream",
     "text": [
      "Teste de História: Colonização do Brasil\n",
      "\n",
      "Pergunta 1: Qual foi o ano em que os navios portugueses ancoraram no litoral brasileiro, dando início à colonização do Brasil?\n",
      "Pergunta 2: O que foi o Tratado de Tordesilhas e qual era o seu objetivo?\n",
      "Pergunta 3: O que eram as capitanias hereditárias e qual era o objetivo de sua criação?\n",
      "Pergunta 4: Quem foi o primeiro governador-geral do Brasil e qual era sua função?\n",
      "Pergunta 5: Qual foi o período em que a colônia brasileira ficou sob o controle da Espanha?\n",
      "Pergunta 6: O que marcou o século XVIII na colônia brasileira?\n",
      "Pergunta 7: Cite duas cidades brasileiras que surgiram devido à busca por ouro durante o período colonial.\n",
      "Pergunta 8: O que aconteceu em Sete de Setembro de 1822 no Brasil?\n",
      "Pergunta 9: Qual foi o período correspondente aos trinta primeiros anos das expedições portuguesas no Brasil?\n",
      "Pergunta 10: Quem liderou a expedição que oficializou a colonização brasileira em 1530?\n"
     ]
    }
   ],
   "source": [
    "messages=[{\"role\":\"system\",\"content\": system_context_pt},\n",
    "          {\"role\":\"user\",\"content\": prompt_obj_pt + texto}]\n",
    "response_pt = gpt.chat(messages)\n",
    "\n",
    "messages=[{\"role\":\"system\",\"content\": system_context_stud_pt},\n",
    "          {\"role\":\"user\",\"content\": prompt_stud_pt + response_pt}]\n",
    "response_stud_pt = gpt.chat(messages) \n",
    "\n",
    "messages=[{\"role\":\"system\",\"content\": system_context_stud_pt},\n",
    "          {\"role\":\"user\",\"content\": prompt_stud_pt + response_pt + add_pt + texto}]\n",
    "response_stud_pt_text = gpt.chat(messages)\n",
    "\n",
    "print(response_pt)"
   ]
  },
  {
   "cell_type": "code",
   "execution_count": 10,
   "id": "56734899",
   "metadata": {
    "scrolled": true
   },
   "outputs": [
    {
     "name": "stdout",
     "output_type": "stream",
     "text": [
      "Teste de História: Colonização do Brasil\n",
      "\n",
      "Pergunta 1: Qual foi o ano em que os navios portugueses ancoraram no litoral brasileiro, dando início à colonização do Brasil?\n",
      "Resposta: 1500.\n",
      "\n",
      "Pergunta 2: O que foi o Tratado de Tordesilhas e qual era o seu objetivo?\n",
      "Resposta: Foi um acordo entre Portugal e Espanha em 1494 para dividir as terras \"descobertas e por descobrir\" fora da Europa, estabelecendo um meridiano a oeste do qual pertenceria a Espanha e a leste a Portugal.\n",
      "\n",
      "Pergunta 3: O que eram as capitanias hereditárias e qual era o objetivo de sua criação?\n",
      "Resposta: Divisões administrativas do território brasileiro do período colonial, com o objetivo de facilitar a colonização e exploração das terras.\n",
      "\n",
      "Pergunta 4: Quem foi o primeiro governador-geral do Brasil e qual era sua função?\n",
      "Resposta: Tomé de Sousa, cuja função era administrar a colônia em nome de Portugal.\n",
      "\n",
      "Pergunta 5: Qual foi o período em que a colônia brasileira ficou sob o controle da Espanha?\n",
      "Resposta: União Ibérica, de 1580 a 1640.\n",
      "\n",
      "Pergunta 6: O que marcou o século XVIII na colônia brasileira?\n",
      "Resposta: O ciclo do ouro, com a descoberta de grandes jazidas em Minas Gerais.\n",
      "\n",
      "Pergunta 7: Cite duas cidades brasileiras que surgiram devido à busca por ouro durante o período colonial.\n",
      "Resposta: Ouro Preto e Sabará.\n",
      "\n",
      "Pergunta 8: O que aconteceu em Sete de Setembro de 1822 no Brasil?\n",
      "Resposta: A Independência do Brasil, proclamada por Dom Pedro I.\n",
      "\n",
      "Pergunta 9: Qual foi o período correspondente aos trinta primeiros anos das expedições portuguesas no Brasil?\n",
      "Resposta: Período Pré-Colonial.\n",
      "\n",
      "Pergunta 10: Quem liderou a expedição que oficializou a colonização brasileira em 1530?\n",
      "Resposta: Martim Afonso de Sousa.\n"
     ]
    }
   ],
   "source": [
    "print(response_stud_pt)"
   ]
  },
  {
   "cell_type": "code",
   "execution_count": 11,
   "id": "773add2a",
   "metadata": {},
   "outputs": [
    {
     "name": "stdout",
     "output_type": "stream",
     "text": [
      "Teste de História: Colonização do Brasil\n",
      "\n",
      "Pergunta 1: Qual foi o ano em que os navios portugueses ancoraram no litoral brasileiro, dando início à colonização do Brasil?\n",
      "Sua resposta: 1500.\n",
      "\n",
      "Pergunta 2: O que foi o Tratado de Tordesilhas e qual era o seu objetivo?\n",
      "Sua resposta: O Tratado de Tordesilhas foi um acordo entre Portugal e Espanha para dividir as terras descobertas no Novo Mundo. Seu objetivo era estabelecer uma linha imaginária que determinava quais terras pertenceriam a cada país.\n",
      "\n",
      "Pergunta 3: O que eram as capitanias hereditárias e qual era o objetivo de sua criação?\n",
      "Sua resposta: As capitanias hereditárias eram grandes faixas de terra concedidas a capitães donatários com o objetivo de colonizar e explorar economicamente o território brasileiro.\n",
      "\n",
      "Pergunta 4: Quem foi o primeiro governador-geral do Brasil e qual era sua função?\n",
      "Sua resposta: O primeiro governador-geral do Brasil foi Tomé de Souza, e sua função era controlar as capitanias e administrar a colônia em nome da coroa portuguesa.\n",
      "\n",
      "Pergunta 5: Qual foi o período em que a colônia brasileira ficou sob o controle da Espanha?\n",
      "Sua resposta: O período em que a colônia brasileira ficou sob o controle da Espanha foi durante a União Ibérica, de 1580 a 1640.\n",
      "\n",
      "Pergunta 6: O que marcou o século XVIII na colônia brasileira?\n",
      "Sua resposta: O século XVIII na colônia brasileira foi marcado pela descoberta e exploração das minas de ouro, gerando um grande desenvolvimento econômico e social.\n",
      "\n",
      "Pergunta 7: Cite duas cidades brasileiras que surgiram devido à busca por ouro durante o período colonial.\n",
      "Sua resposta: Diamantina e Ouro Preto.\n",
      "\n",
      "Pergunta 8: O que aconteceu em Sete de Setembro de 1822 no Brasil?\n",
      "Sua resposta: Em Sete de Setembro de 1822, o Brasil conquistou sua independência de Portugal, iniciando o período imperial.\n",
      "\n",
      "Pergunta 9: Qual foi o período correspondente aos trinta primeiros anos das expedições portuguesas no Brasil?\n",
      "Sua resposta: O período correspondente aos trinta primeiros anos das expedições portuguesas no Brasil foi denominado de Período Pré-Colonial, de 1500 a 1530.\n",
      "\n",
      "Pergunta 10: Quem liderou a expedição que oficializou a colonização brasileira em 1530?\n",
      "Sua resposta: A expedição que oficializou a colonização brasileira em 1530 foi liderada por Martin Afonso de Souza.\n"
     ]
    }
   ],
   "source": [
    "print(response_stud_pt_text)"
   ]
  },
  {
   "cell_type": "code",
   "execution_count": 12,
   "id": "ba4deb34",
   "metadata": {},
   "outputs": [
    {
     "name": "stdout",
     "output_type": "stream",
     "text": [
      "Teste sobre a Colonização do Brasil\n",
      "\n",
      "Pergunta 1: Qual foi a data em que os navios portugueses ancoraram no litoral brasileiro, dando início à colonização do Brasil?\n",
      "Pergunta 2: O que foi o Tratado de Tordesilhas e qual era o objetivo desse acordo?\n",
      "Pergunta 3: O que eram as capitanias hereditárias e qual era o objetivo de sua criação?\n",
      "Pergunta 4: Quem foi o primeiro governador-geral do Brasil e qual era sua função?\n",
      "Pergunta 5: O que eram as sesmarias e como eram praticadas na colônia brasileira?\n",
      "Pergunta 6: O que foi a União Ibérica e qual foi sua influência na colonização brasileira?\n",
      "Pergunta 7: Qual foi o impacto da descoberta das minas de ouro no século XVIII na colônia brasileira?\n",
      "Pergunta 8: Cite duas cidades brasileiras que surgiram devido à busca pelo ouro.\n",
      "Pergunta 9: Até quando se estendeu o período de colonização do Brasil?\n",
      "Pergunta 10: Qual foi a data em que o Brasil conquistou sua independência?\n"
     ]
    }
   ],
   "source": [
    "messages=[{\"role\":\"system\",\"content\": system_context_pt},\n",
    "          {\"role\":\"user\",\"content\": prompt_sub_pt + texto}]\n",
    "response_pt = gpt.chat(messages)\n",
    "\n",
    "messages=[{\"role\":\"system\",\"content\": system_context_stud_pt},\n",
    "          {\"role\":\"user\",\"content\": prompt_stud_pt + response_pt}]\n",
    "response_stud_pt = gpt.chat(messages) \n",
    "\n",
    "messages=[{\"role\":\"system\",\"content\": system_context_stud_pt},\n",
    "          {\"role\":\"user\",\"content\": prompt_stud_pt + response_pt + add_pt + texto}]\n",
    "response_stud_pt_text = gpt.chat(messages) \n",
    "\n",
    "print(response_pt)"
   ]
  },
  {
   "cell_type": "code",
   "execution_count": 13,
   "id": "2e192fd6",
   "metadata": {},
   "outputs": [
    {
     "name": "stdout",
     "output_type": "stream",
     "text": [
      "Teste sobre a Colonização do Brasil\n",
      "\n",
      "Pergunta 1: Qual foi a data em que os navios portugueses ancoraram no litoral brasileiro, dando início à colonização do Brasil?\n",
      "Sua resposta: 22 de abril de 1500.\n",
      "\n",
      "Pergunta 2: O que foi o Tratado de Tordesilhas e qual era o objetivo desse acordo?\n",
      "Sua resposta: O Tratado de Tordesilhas foi um acordo entre Portugal e Espanha em 1494 para dividir as terras \"descobertas e por descobrir\" fora da Europa, estabelecendo um meridiano a oeste do qual pertenceria a Espanha e a leste, a Portugal.\n",
      "\n",
      "Pergunta 3: O que eram as capitanias hereditárias e qual era o objetivo de sua criação?\n",
      "Sua resposta: As capitanias hereditárias eram territórios doados pela Coroa portuguesa a donatários com o objetivo de colonizar e administrar regiões do Brasil.\n",
      "\n",
      "Pergunta 4: Quem foi o primeiro governador-geral do Brasil e qual era sua função?\n",
      "Sua resposta: Tomé de Sousa foi o primeiro governador-geral do Brasil, sua função era administrar a colônia em nome da Coroa portuguesa.\n",
      "\n",
      "Pergunta 5: O que eram as sesmarias e como eram praticadas na colônia brasileira?\n",
      "Sua resposta: As sesmarias eram grandes extensões de terra doadas a particulares para exploração agrícola, sendo uma prática de distribuição de terras na colônia brasileira.\n",
      "\n",
      "Pergunta 6: O que foi a União Ibérica e qual foi sua influência na colonização brasileira?\n",
      "Sua resposta: A União Ibérica foi a união das coroas de Portugal e Espanha de 1580 a 1640, o que influenciou a colonização brasileira ao centralizar o poder e a administração das colônias.\n",
      "\n",
      "Pergunta 7: Qual foi o impacto da descoberta das minas de ouro no século XVIII na colônia brasileira?\n",
      "Sua resposta: A descoberta das minas de ouro gerou um grande fluxo populacional, impulsionou a economia e contribuiu para o desenvolvimento de cidades e infraestrutura na colônia brasileira.\n",
      "\n",
      "Pergunta 8: Cite duas cidades brasileiras que surgiram devido à busca pelo ouro.\n",
      "Sua resposta: Ouro Preto e Sabará.\n",
      "\n",
      "Pergunta 9: Até quando se estendeu o período de colonização do Brasil?\n",
      "Sua resposta: O período de colonização do Brasil se estendeu até 1822, quando o país conquistou sua independência.\n",
      "\n",
      "Pergunta 10: Qual foi a data em que o Brasil conquistou sua independência?\n",
      "Sua resposta: 7 de setembro de 1822.\n"
     ]
    }
   ],
   "source": [
    "print(response_stud_pt)"
   ]
  },
  {
   "cell_type": "code",
   "execution_count": 14,
   "id": "8c97e31d",
   "metadata": {},
   "outputs": [
    {
     "name": "stdout",
     "output_type": "stream",
     "text": [
      "Teste sobre a Colonização do Brasil\n",
      "\n",
      "Pergunta 1: Qual foi a data em que os navios portugueses ancoraram no litoral brasileiro, dando início à colonização do Brasil?\n",
      "Sua resposta: Em 1500.\n",
      "\n",
      "Pergunta 2: O que foi o Tratado de Tordesilhas e qual era o objetivo desse acordo?\n",
      "Sua resposta: O Tratado de Tordesilhas foi um acordo entre Portugal e Espanha para dividir as terras descobertas no Novo Mundo. O objetivo era evitar conflitos sobre as áreas de exploração.\n",
      "\n",
      "Pergunta 3: O que eram as capitanias hereditárias e qual era o objetivo de sua criação?\n",
      "Sua resposta: As capitanias hereditárias eram grandes faixas de terra concedidas a nobres para colonizar e explorar o território brasileiro em nome de Portugal.\n",
      "\n",
      "Pergunta 4: Quem foi o primeiro governador-geral do Brasil e qual era sua função?\n",
      "Sua resposta: O primeiro governador-geral do Brasil foi Tomé de Souza, e sua função era centralizar o poder e administrar a colônia em nome de Portugal.\n",
      "\n",
      "Pergunta 5: O que eram as sesmarias e como eram praticadas na colônia brasileira?\n",
      "Sua resposta: As sesmarias eram terras doadas pelo rei de Portugal para exploração agrícola. Eram distribuídas gratuitamente e não podiam ser vendidas.\n",
      "\n",
      "Pergunta 6: O que foi a União Ibérica e qual foi sua influência na colonização brasileira?\n",
      "Sua resposta: A União Ibérica foi o período em que Portugal ficou sob domínio espanhol. Isso influenciou a colonização brasileira ao fortalecer o controle espanhol sobre a colônia.\n",
      "\n",
      "Pergunta 7: Qual foi o impacto da descoberta das minas de ouro no século XVIII na colônia brasileira?\n",
      "Sua resposta: A descoberta das minas de ouro gerou um grande aumento populacional, econômico e urbano na colônia brasileira.\n",
      "\n",
      "Pergunta 8: Cite duas cidades brasileiras que surgiram devido à busca pelo ouro.\n",
      "Sua resposta: Diamantina e Ouro Preto.\n",
      "\n",
      "Pergunta 9: Até quando se estendeu o período de colonização do Brasil?\n",
      "Sua resposta: O período de colonização do Brasil se estendeu até meados do século XIX.\n",
      "\n",
      "Pergunta 10: Qual foi a data em que o Brasil conquistou sua independência?\n",
      "Sua resposta: O Brasil conquistou sua independência em 7 de setembro de 1822.\n"
     ]
    }
   ],
   "source": [
    "print(response_stud_pt_text)"
   ]
  },
  {
   "cell_type": "code",
   "execution_count": 15,
   "id": "1dc5c071",
   "metadata": {},
   "outputs": [],
   "source": [
    "texto = \"\"\"\n",
    "A Revolta da Chibata foi organizada pelos marinheiros brasileiros que estavam em navios atracados na Baía de Guanabara, no Rio de Janeiro. Esse motim dos marinheiros aconteceu entre os dias 22 e 27 de novembro de 1910 e teve como principal razão a insatisfação dos marinheiros com os castigos físicos a que eram sujeitos: as chibatadas.\n",
    "A Revolta da Chibata ficou extremamente conhecida por ter sido uma reação dos marinheiros brasileiros aos castigos físicos a que eram sujeitos. A Marinha brasileira tinha como prática na época o uso da chibatada como forma de punição de seus marinheiros caso violassem o código de conduta da corporação.\n",
    "O uso da chibatada como punição pela Marinha brasileira era uma herança colonial transmitida pela Marinha portuguesa a partir de um código chamado Artigos de Guerra. O uso das chibatadas como punição era dedicado aos marinheiros que ocupavam uma posição mais baixa na hierarquia da Marinha. Em geral, os cargos mais baixos da Marinha eram ocupados por negros e mestiços.\n",
    "A insatisfação dos marinheiros com as chibatadas existia já havia um tempo, inclusive, pouco antes do motim, os marinheiros haviam manifestado a sua insatisfação com a punição de um marinheiro quando navegavam nas proximidades da costa do Chile. O estopim que levou ao início do movimento ocorreu com a punição dada para Marcelino Rodrigues Menezes – punido com 250 chibatadas.\n",
    "A Revolta da Chibata, no entanto, não aconteceu somente pela insatisfação com os castigos físicos, mas manifestou a insatisfação dos marinheiros, todos pertencentes às classes baixas, com o racismo existente na corporação e com a desigualdade da sociedade. Para as historiadoras Lilia Schwarcz e Heloisa Starling, a Revolta da Chibata “também se encarregou de expor publicamente a violência do Estado contra a população pobre, o racismo e a crueldade reinante em meio à oficialidade das Forças Armadas”\n",
    "Foi no dia 22 de novembro de 1910 que os marinheiros rebelaram-se e tomaram o controle de diferentes encouraçados da Marinha: Minas Gerais, São Paulo, Bahia, além de um navio-patrulha chamado Deodoro. Os marinheiros tomaram o controle das embarcações e afirmavam que, se as autoridades não decretassem o fim dos castigos físicos, a cidade do Rio de Janeiro seria bombardeada.\n",
    "Coincidentemente, a Revolta da Chibata iniciou-se exatamente no dia que o novo presidente brasileiro – Hermes da Fonseca – realizava uma festa em comemoração a sua posse como presidente do Brasil. O manifesto que relatava a insatisfação dos marinheiros foi enviado ao presidente brasileiro e, provavelmente, pode ter sido escrito por Adalberto Ferreira Ribas. O líder dos marujos revoltosos foi João Cândido, que recebeu a alcunha de Almirante Negro.\n",
    "O manifesto dos marinheiros revoltosos foi considerado um documento muito bem escrito e nele os marinheiros faziam uma série de reivindicações:\n",
    "substituição de oficiais, aumento do soldo, fim dos castigos físicos, melhor tratamento na Marinha brasileira etc.\n",
    "O governo brasileiro aceitou as condições dos marinheiros e prometeu-lhes anistia caso colocassem fim à revolta.\n",
    "Assim, os marinheiros revoltosos entregaram as embarcações para seus oficiais no dia 26 de novembro de 1910. No entanto, a promessa feita pelo governo brasileiro não foi mantida e, no dia 4 de dezembro de 1910, veio a resposta do governo aos revoltosos. Ao todo, o governo brasileiro prendeu 22 marujos e enviou-os para a Ilha das Cobras, local onde foram aprisionados e torturados.\n",
    "Além dos marinheiros que foram presos e torturados na Ilha das Cobras, outros marujos foram fuzilados e muitos foram enviados para o Acre, onde foram obrigados a trabalhar nos seringais da região.\n",
    "\"\"\""
   ]
  },
  {
   "cell_type": "code",
   "execution_count": 16,
   "id": "243cfcbd",
   "metadata": {},
   "outputs": [
    {
     "name": "stdout",
     "output_type": "stream",
     "text": [
      "Teste: A Revolta da Chibata\n",
      "\n",
      "Pergunta 1: O que motivou a Revolta da Chibata entre os marinheiros brasileiros em 1910?\n",
      "Pergunta 2: Qual era a prática da Marinha brasileira que gerou insatisfação entre os marinheiros?\n",
      "Pergunta 3: Qual era a herança colonial relacionada ao uso da chibata como punição na Marinha brasileira?\n",
      "Pergunta 4: Quem ocupava em sua maioria os cargos mais baixos na hierarquia da Marinha e eram mais frequentemente punidos com chibatadas?\n",
      "Pergunta 5: O que desencadeou o início da Revolta da Chibata em 1910?\n",
      "Pergunta 6: Quais embarcações foram tomadas pelos marinheiros revoltosos durante a Revolta da Chibata?\n",
      "Pergunta 7: Quem foi o líder dos marujos revoltosos durante a Revolta da Chibata e qual alcunha ele recebeu?\n",
      "Pergunta 8: Quais eram as reivindicações feitas pelos marinheiros no manifesto enviado ao presidente brasileiro durante a Revolta da Chibata?\n",
      "Pergunta 9: O que o governo brasileiro prometeu aos marinheiros revoltosos em troca do fim da revolta?\n",
      "Pergunta 10: O que aconteceu com os marinheiros revoltosos após entregarem as embarcações e o governo brasileiro não cumprir a promessa feita?\n"
     ]
    }
   ],
   "source": [
    "messages=[{\"role\":\"system\",\"content\": system_context_pt},\n",
    "          {\"role\":\"user\",\"content\": prompt_obj_pt + texto}]\n",
    "response_pt = gpt.chat(messages)\n",
    "\n",
    "messages=[{\"role\":\"system\",\"content\": system_context_stud_pt},\n",
    "          {\"role\":\"user\",\"content\": prompt_stud_pt + response_pt}]\n",
    "response_stud_pt = gpt.chat(messages) \n",
    "\n",
    "messages=[{\"role\":\"system\",\"content\": system_context_stud_pt},\n",
    "          {\"role\":\"user\",\"content\": prompt_stud_pt + response_pt + add_pt + texto}]\n",
    "response_stud_pt_text = gpt.chat(messages) \n",
    "\n",
    "print(response_pt)"
   ]
  },
  {
   "cell_type": "code",
   "execution_count": 17,
   "id": "298d2a56",
   "metadata": {},
   "outputs": [
    {
     "name": "stdout",
     "output_type": "stream",
     "text": [
      "Teste: A Revolta da Chibata\n",
      "\n",
      "Pergunta 1: O que motivou a Revolta da Chibata entre os marinheiros brasileiros em 1910?\n",
      "Sua resposta: A principal motivação foi a insatisfação com os castigos físicos, especialmente as chibatadas, aplicados pela Marinha.\n",
      "\n",
      "Pergunta 2: Qual era a prática da Marinha brasileira que gerou insatisfação entre os marinheiros?\n",
      "Sua resposta: A prática de aplicar chibatadas como forma de punição.\n",
      "\n",
      "Pergunta 3: Qual era a herança colonial relacionada ao uso da chibata como punição na Marinha brasileira?\n",
      "Sua resposta: A herança colonial estava ligada à prática de punições físicas severas, como a chibata, herdada do período escravocrata.\n",
      "\n",
      "Pergunta 4: Quem ocupava em sua maioria os cargos mais baixos na hierarquia da Marinha e eram mais frequentemente punidos com chibatadas?\n",
      "Sua resposta: Os marinheiros negros e mulatos, que compunham a maioria dos cargos mais baixos na hierarquia da Marinha, eram os mais punidos com chibatadas.\n",
      "\n",
      "Pergunta 5: O que desencadeou o início da Revolta da Chibata em 1910?\n",
      "Sua resposta: O estopim foi a punição com chibatadas aplicada ao marinheiro Marcelino Rodrigues de Menezes.\n",
      "\n",
      "Pergunta 6: Quais embarcações foram tomadas pelos marinheiros revoltosos durante a Revolta da Chibata?\n",
      "Sua resposta: Os encouraçados Minas Geraes e São Paulo foram tomados pelos marinheiros revoltosos.\n",
      "\n",
      "Pergunta 7: Quem foi o líder dos marujos revoltosos durante a Revolta da Chibata e qual alcunha ele recebeu?\n",
      "Sua resposta: João Cândido Felisberto, conhecido como \"Almirante Negro\", foi o líder dos marujos revoltosos.\n",
      "\n",
      "Pergunta 8: Quais eram as reivindicações feitas pelos marinheiros no manifesto enviado ao presidente brasileiro durante a Revolta da Chibata?\n",
      "Sua resposta: As principais reivindicações eram o fim das punições com chibata, anistia aos revoltosos e melhoria nas condições de trabalho.\n",
      "\n",
      "Pergunta 9: O que o governo brasileiro prometeu aos marinheiros revoltosos em troca do fim da revolta?\n",
      "Sua resposta: O governo prometeu anistia aos revoltosos e o fim das punições com chibata.\n",
      "\n",
      "Pergunta 10: O que aconteceu com os marinheiros revoltosos após entregarem as embarcações e o governo brasileiro não cumprir a promessa feita?\n",
      "Sua resposta: Os marinheiros foram presos e alguns foram expulsos da Marinha, demonstrando a traição do governo em relação às promessas feitas.\n"
     ]
    }
   ],
   "source": [
    "print(response_stud_pt)"
   ]
  },
  {
   "cell_type": "code",
   "execution_count": 18,
   "id": "c45d80dc",
   "metadata": {},
   "outputs": [
    {
     "name": "stdout",
     "output_type": "stream",
     "text": [
      "Teste: A Revolta da Chibata\n",
      "\n",
      "Pergunta 1: O que motivou a Revolta da Chibata entre os marinheiros brasileiros em 1910?\n",
      "Sua resposta: A insatisfação dos marinheiros com os castigos físicos, especialmente as chibatadas, impostos pela Marinha brasileira.\n",
      "\n",
      "Pergunta 2: Qual era a prática da Marinha brasileira que gerou insatisfação entre os marinheiros?\n",
      "Sua resposta: O uso da chibata como forma de punição para os marinheiros que violassem o código de conduta da corporação.\n",
      "\n",
      "Pergunta 3: Qual era a herança colonial relacionada ao uso da chibata como punição na Marinha brasileira?\n",
      "Sua resposta: A prática da chibata como punição era uma herança colonial transmitida pela Marinha portuguesa através do código chamado Artigos de Guerra.\n",
      "\n",
      "Pergunta 4: Quem ocupava em sua maioria os cargos mais baixos na hierarquia da Marinha e eram mais frequentemente punidos com chibatadas?\n",
      "Sua resposta: Os marinheiros negros e mestiços, que ocupavam os cargos mais baixos na hierarquia da Marinha, eram os mais frequentemente punidos com chibatadas.\n",
      "\n",
      "Pergunta 5: O que desencadeou o início da Revolta da Chibata em 1910?\n",
      "Sua resposta: O estopim foi a punição de Marcelino Rodrigues Menezes com 250 chibatadas, que gerou revolta entre os marinheiros.\n",
      "\n",
      "Pergunta 6: Quais embarcações foram tomadas pelos marinheiros revoltosos durante a Revolta da Chibata?\n",
      "Sua resposta: Os marinheiros tomaram o controle dos encouraçados Minas Gerais, São Paulo, Bahia e do navio-patrulha Deodoro.\n",
      "\n",
      "Pergunta 7: Quem foi o líder dos marujos revoltosos durante a Revolta da Chibata e qual alcunha ele recebeu?\n",
      "Sua resposta: O líder foi João Cândido, conhecido como Almirante Negro.\n",
      "\n",
      "Pergunta 8: Quais eram as reivindicações feitas pelos marinheiros no manifesto enviado ao presidente brasileiro durante a Revolta da Chibata?\n",
      "Sua resposta: As reivindicações incluíam a substituição de oficiais, aumento do soldo, fim dos castigos físicos e melhor tratamento na Marinha brasileira.\n",
      "\n",
      "Pergunta 9: O que o governo brasileiro prometeu aos marinheiros revoltosos em troca do fim da revolta?\n",
      "Sua resposta: O governo prometeu anistia aos marinheiros revoltosos caso encerrassem a revolta.\n",
      "\n",
      "Pergunta 10: O que aconteceu com os marinheiros revoltosos após entregarem as embarcações e o governo brasileiro não cumprir a promessa feita?\n",
      "Sua resposta: O governo brasileiro não cumpriu a promessa de anistia e, em vez disso, prendeu 22 marujos, enviando-os para a Ilha das Cobras, onde foram aprisionados e torturados. Outros foram fuzilados e muitos foram enviados para o Acre para trabalhar nos seringais da região.\n"
     ]
    }
   ],
   "source": [
    "print(response_stud_pt_text)"
   ]
  },
  {
   "cell_type": "code",
   "execution_count": 19,
   "id": "a2a4125c",
   "metadata": {},
   "outputs": [
    {
     "name": "stdout",
     "output_type": "stream",
     "text": [
      "**Teste sobre a Revolta da Chibata**\n",
      "\n",
      "Pergunta 1: Qual foi a principal razão que levou os marinheiros brasileiros a se rebelarem durante a Revolta da Chibata?\n",
      "\n",
      "Pergunta 2: Qual era a prática da Marinha brasileira que gerava insatisfação entre os marinheiros?\n",
      "\n",
      "Pergunta 3: De acordo com o texto, qual era a herança colonial transmitida pela Marinha portuguesa que envolvia o uso da chibata como punição?\n",
      "\n",
      "Pergunta 4: Quem ocupava, em sua maioria, os cargos mais baixos na hierarquia da Marinha e eram os principais alvos das chibatadas?\n",
      "\n",
      "Pergunta 5: O que aconteceu pouco antes do motim que demonstrou a insatisfação dos marinheiros com as punições físicas?\n",
      "\n",
      "Pergunta 6: Quem foi o líder dos marujos revoltosos durante a Revolta da Chibata?\n",
      "\n",
      "Pergunta 7: Qual era o nome dado ao líder dos marujos revoltosos?\n",
      "\n",
      "Pergunta 8: Quais eram algumas das reivindicações feitas pelos marinheiros no manifesto enviado ao presidente brasileiro?\n",
      "\n",
      "Pergunta 9: O que o governo brasileiro prometeu aos marinheiros revoltosos em troca do fim da revolta?\n",
      "\n",
      "Pergunta 10: O que aconteceu com os marinheiros revoltosos após entregarem as embarcações para seus oficiais?\n"
     ]
    }
   ],
   "source": [
    "messages=[{\"role\":\"system\",\"content\": system_context_pt},\n",
    "          {\"role\":\"user\",\"content\": prompt_sub_pt + texto}]\n",
    "response_pt = gpt.chat(messages)\n",
    "\n",
    "messages=[{\"role\":\"system\",\"content\": system_context_stud_pt},\n",
    "          {\"role\":\"user\",\"content\": prompt_stud_pt + response_pt}]\n",
    "response_stud_pt = gpt.chat(messages) \n",
    "\n",
    "messages=[{\"role\":\"system\",\"content\": system_context_stud_pt},\n",
    "          {\"role\":\"user\",\"content\": prompt_stud_pt + response_pt + add_pt + texto}]\n",
    "response_stud_pt_text = gpt.chat(messages) \n",
    "\n",
    "print(response_pt)"
   ]
  },
  {
   "cell_type": "code",
   "execution_count": 20,
   "id": "7293aacc",
   "metadata": {},
   "outputs": [
    {
     "name": "stdout",
     "output_type": "stream",
     "text": [
      "**Teste sobre a Revolta da Chibata**\n",
      "\n",
      "Pergunta 1: Qual foi a principal razão que levou os marinheiros brasileiros a se rebelarem durante a Revolta da Chibata?\n",
      "Sua resposta: A principal razão foi a prática de punições físicas, como chibatadas, aplicadas pela Marinha.\n",
      "\n",
      "Pergunta 2: Qual era a prática da Marinha brasileira que gerava insatisfação entre os marinheiros?\n",
      "Sua resposta: A prática de punições físicas, especialmente o uso da chibata.\n",
      "\n",
      "Pergunta 3: De acordo com o texto, qual era a herança colonial transmitida pela Marinha portuguesa que envolvia o uso da chibata como punição?\n",
      "Sua resposta: A herança colonial era a punição física como forma de disciplina, comum na Marinha portuguesa.\n",
      "\n",
      "Pergunta 4: Quem ocupava, em sua maioria, os cargos mais baixos na hierarquia da Marinha e eram os principais alvos das chibatadas?\n",
      "Sua resposta: Os marinheiros negros e mulatos, que ocupavam os cargos mais baixos na hierarquia, eram os principais alvos das chibatadas.\n",
      "\n",
      "Pergunta 5: O que aconteceu pouco antes do motim que demonstrou a insatisfação dos marinheiros com as punições físicas?\n",
      "Sua resposta: Houve um episódio em que marinheiros foram punidos com chibatadas, o que aumentou a insatisfação e culminou na revolta.\n",
      "\n",
      "Pergunta 6: Quem foi o líder dos marujos revoltosos durante a Revolta da Chibata?\n",
      "Sua resposta: João Cândido Felisberto, conhecido como Almirante Negro, foi o líder dos marujos revoltosos.\n",
      "\n",
      "Pergunta 7: Qual era o nome dado ao líder dos marujos revoltosos?\n",
      "Sua resposta: O líder dos marujos revoltosos era conhecido como Almirante Negro.\n",
      "\n",
      "Pergunta 8: Quais eram algumas das reivindicações feitas pelos marinheiros no manifesto enviado ao presidente brasileiro?\n",
      "Sua resposta: Algumas reivindicações incluíam o fim das punições físicas, melhores condições de trabalho e anistia aos revoltosos.\n",
      "\n",
      "Pergunta 9: O que o governo brasileiro prometeu aos marinheiros revoltosos em troca do fim da revolta?\n",
      "Sua resposta: O governo prometeu anistia aos revoltosos e a não aplicação de punições físicas.\n",
      "\n",
      "Pergunta 10: O que aconteceu com os marinheiros revoltosos após entregarem as embarcações para seus oficiais?\n",
      "Sua resposta: Após entregarem as embarcações, os marinheiros foram presos e alguns foram punidos, mas posteriormente receberam anistia.\n"
     ]
    }
   ],
   "source": [
    "print(response_stud_pt)"
   ]
  },
  {
   "cell_type": "code",
   "execution_count": 21,
   "id": "b4df2517",
   "metadata": {},
   "outputs": [
    {
     "name": "stdout",
     "output_type": "stream",
     "text": [
      "**Teste sobre a Revolta da Chibata**\n",
      "\n",
      "Pergunta 1: Qual foi a principal razão que levou os marinheiros brasileiros a se rebelarem durante a Revolta da Chibata?\n",
      "Sua resposta: A insatisfação com os castigos físicos, especialmente as chibatadas.\n",
      "\n",
      "Pergunta 2: Qual era a prática da Marinha brasileira que gerava insatisfação entre os marinheiros?\n",
      "Sua resposta: O uso da chibata como forma de punição.\n",
      "\n",
      "Pergunta 3: De acordo com o texto, qual era a herança colonial transmitida pela Marinha portuguesa que envolvia o uso da chibata como punição?\n",
      "Sua resposta: O uso das chibatadas como punição transmitido pelos Artigos de Guerra.\n",
      "\n",
      "Pergunta 4: Quem ocupava, em sua maioria, os cargos mais baixos na hierarquia da Marinha e eram os principais alvos das chibatadas?\n",
      "Sua resposta: Negros e mestiços, marinheiros das classes baixas.\n",
      "\n",
      "Pergunta 5: O que aconteceu pouco antes do motim que demonstrou a insatisfação dos marinheiros com as punições físicas?\n",
      "Sua resposta: A manifestação de insatisfação com a punição de um marinheiro próximo à costa do Chile.\n",
      "\n",
      "Pergunta 6: Quem foi o líder dos marujos revoltosos durante a Revolta da Chibata?\n",
      "Sua resposta: João Cândido.\n",
      "\n",
      "Pergunta 7: Qual era o nome dado ao líder dos marujos revoltosos?\n",
      "Sua resposta: Almirante Negro.\n",
      "\n",
      "Pergunta 8: Quais eram algumas das reivindicações feitas pelos marinheiros no manifesto enviado ao presidente brasileiro?\n",
      "Sua resposta: Substituição de oficiais, aumento do soldo, fim dos castigos físicos, melhor tratamento na Marinha brasileira, entre outras.\n",
      "\n",
      "Pergunta 9: O que o governo brasileiro prometeu aos marinheiros revoltosos em troca do fim da revolta?\n",
      "Sua resposta: Anistia.\n",
      "\n",
      "Pergunta 10: O que aconteceu com os marinheiros revoltosos após entregarem as embarcações para seus oficiais?\n",
      "Sua resposta: Muitos foram presos, torturados, fuzilados e enviados para trabalhar nos seringais do Acre.\n"
     ]
    }
   ],
   "source": [
    "print(response_stud_pt_text)"
   ]
  },
  {
   "cell_type": "code",
   "execution_count": 22,
   "id": "3450e959",
   "metadata": {},
   "outputs": [],
   "source": [
    "texto = \"\"\"\n",
    "Genetics Overview for High School Students (Resumo de Genética para Estudantes do Ensino Médio)\n",
    "Genetics is the study of how traits are passed from one generation to another. It plays a crucial role in understanding how living organisms inherit and express characteristics. Here are some key concepts in genetics:\n",
    "Heredity: Heredity is the process by which characteristics are passed from parents to offspring. This is accomplished through genes, which are segments of DNA.\n",
    "DNA: DNA (Deoxyribonucleic Acid) is the genetic material in all living organisms. It carries the instructions for building and maintaining an organism. DNA is organized into structures called chromosomes.\n",
    "Genes: Genes are specific segments of DNA that code for particular traits or characteristics. For example, genes determine things like eye color, blood type, and susceptibility to certain diseases.\n",
    "Alleles: Genes can have different forms, known as alleles. Alleles can be dominant or recessive, and they influence how traits are expressed.\n",
    "Punnett Squares: Punnett squares are a tool used to predict the possible genetic outcomes of a mating between two individuals. They show the probability of different combinations of alleles in their offspring.\n",
    "Mendelian Inheritance: Gregor Mendel, an Austrian scientist, is known for his work on pea plants, which laid the foundation for our understanding of inheritance. His principles, such as the Law of Segregation and the Law of Independent Assortment, explain how alleles are passed on.\n",
    "Genetic Disorders: Some genetic variations can lead to genetic disorders. These conditions can be caused by mutations in genes and may result in inherited diseases or conditions.\n",
    "Modern Genetics: Today, genetics has advanced significantly with the discovery of the structure of DNA, the sequencing of the human genome, and advancements in genetic engineering and biotechnology.\n",
    "\"\"\""
   ]
  },
  {
   "cell_type": "code",
   "execution_count": 23,
   "id": "a26b78e0",
   "metadata": {},
   "outputs": [
    {
     "name": "stdout",
     "output_type": "stream",
     "text": [
      "Genetics Test for High School Students\n",
      "\n",
      "Question 1: Define heredity and explain its significance in genetics.\n",
      "Question 2: What is DNA and what role does it play in living organisms?\n",
      "Question 3: Describe the relationship between genes and traits in organisms.\n",
      "Question 4: What are alleles and how do they influence the expression of traits?\n",
      "Question 5: How are Punnett squares used in genetics, and what do they help predict?\n",
      "Question 6: Who is Gregor Mendel and what are some of his contributions to the field of genetics?\n",
      "Question 7: Explain the difference between dominant and recessive alleles with an example.\n",
      "Question 8: What are genetic disorders and how do they relate to mutations in genes?\n",
      "Question 9: Discuss the significance of the discovery of the structure of DNA in modern genetics.\n",
      "Question 10: How has genetic engineering and biotechnology advanced the field of genetics in recent years?\n"
     ]
    }
   ],
   "source": [
    "messages=[{\"role\":\"system\",\"content\": system_context_en},\n",
    "          {\"role\":\"user\",\"content\": prompt_obj_en + texto}]\n",
    "response_en = gpt.chat(messages)\n",
    "\n",
    "messages=[{\"role\":\"system\",\"content\": system_context_stud_en},\n",
    "          {\"role\":\"user\",\"content\": prompt_stud_en + response_en}]\n",
    "response_stud_en = gpt.chat(messages) \n",
    "\n",
    "messages=[{\"role\":\"system\",\"content\": system_context_stud_en},\n",
    "          {\"role\":\"user\",\"content\": prompt_stud_en + response_en + add_en + texto}]\n",
    "response_stud_en_text = gpt.chat(messages) \n",
    "\n",
    "print(response_en)"
   ]
  },
  {
   "cell_type": "code",
   "execution_count": 24,
   "id": "df60f2ae",
   "metadata": {},
   "outputs": [
    {
     "name": "stdout",
     "output_type": "stream",
     "text": [
      "Genetics Test for High School Students\n",
      "\n",
      "Question 1: Define heredity and explain its significance in genetics.\n",
      "Question 2: What is DNA, and why is it important in living organisms?\n",
      "Question 3: Describe the role of genes in determining traits in organisms.\n",
      "Question 4: What are alleles, and how do they influence the expression of traits?\n",
      "Question 5: Explain how Punnett squares are used in predicting genetic outcomes.\n",
      "Question 6: Who is Gregor Mendel, and what are his contributions to the field of genetics?\n",
      "Question 7: Discuss the concept of Mendelian inheritance and provide examples.\n",
      "Question 8: What are genetic disorders, and how do they relate to mutations in genes?\n",
      "Question 9: How has modern genetics advanced compared to historical understandings of genetics?\n",
      "Question 10: Provide an example of a genetic engineering application in modern genetics.\n"
     ]
    }
   ],
   "source": [
    "messages=[{\"role\":\"system\",\"content\": system_context_en},\n",
    "          {\"role\":\"user\",\"content\": prompt_sub_en + texto}]\n",
    "response_en = gpt.chat(messages)\n",
    "\n",
    "messages=[{\"role\":\"system\",\"content\": system_context_stud_en},\n",
    "          {\"role\":\"user\",\"content\": prompt_stud_en + response_en}]\n",
    "response_stud_en = gpt.chat(messages) \n",
    "\n",
    "messages=[{\"role\":\"system\",\"content\": system_context_stud_en},\n",
    "          {\"role\":\"user\",\"content\": prompt_stud_en + response_en + add_en + texto}]\n",
    "response_stud_en_text = gpt.chat(messages) \n",
    "\n",
    "print(response_en)"
   ]
  },
  {
   "cell_type": "code",
   "execution_count": 25,
   "id": "5c378cd2",
   "metadata": {},
   "outputs": [],
   "source": [
    "texto = \"\"\"\n",
    "When the London Company sent out its first expedition to begin colonizing Virginia on December 20, 1606, it was by no means the first European attempt to exploit North America. In 1564, for example, French Protestants (Huguenots) built a colony near what is now Jacksonville, Florida. This intrusion did not go unnoticed by the Spanish, who had previously claimed the region. The next year, the Spanish established a military post at St. Augustine; Spanish troops soon wiped out the French interlopers residing but 40 miles away.\n",
    "Meanwhile, Basque, English, and French fishing fleets became regular visitors to the coasts from Newfoundland to Cape Cod. Some of these fishing fleets even set up semi-permanent camps on the coasts to dry their catches and to trade with local people, exchanging furs for manufactured goods. For the next two decades, Europeans' presence in North America was limited to these semi-permanent incursions. Then in the 1580s, the English tried to plant a permanent colony on Roanoke Island (on the outer banks of present-day North Carolina), but their effort was short-lived.\n",
    "In the early 1600s, in rapid succession, the English began a colony (Jamestown) in Chesapeake Bay in 1607, the French built Quebec in 1608, and the Dutch began their interest in the region that became present-day New York. Within another generation, the Plymouth Company (1620), the Massachusetts Bay Company (1629), the Company of New France (1627), and the Dutch West India Company (1621) began to send thousands of colonists, including families, to North America. Successful colonization was not inevitable. Rather, interest in North America was a halting, yet global, contest among European powers to exploit these lands.\n",
    "There is another very important point to keep in mind:  European colonization and settlement of North America (and other areas of the so-called \"new world\") was an invasion of territory controlled and settled for centuries by Native Americans. To be sure, Native American control and settlement of that land looked different to European eyes. Nonetheless, Native American groups perceived the Europeans' arrival as an encroachment and they pursued any number of avenues to deal with that invasion. That the Native American were unsuccessful in the long run in resisting or in establishing a more favorable accommodation with the Europeans was as much the result of the impact of European diseases as superior force of arms. Moreover, to view the situation from Native American perspectives is essential in understanding the complex interaction of these very different peoples.\n",
    "Finally, it is also important to keep in mind that yet a third group of people--in this case Africans--played an active role in the European invasion (or colonization) of the western hemisphere. From the very beginning, Europeans' attempts to establish colonies in the western hemisphere foundered on the lack of laborers to do the hard work of colony-building. The Spanish, for example, enslaved the Native American in regions under their control. The English struck upon the idea of indentured servitude to solve the labor problem in Virginia. Virtually all the European powers eventually turned to African slavery to provide labor on their islands in the West Indies. Slavery was eventually transferred to other colonies in both South and North America.\n",
    "Because of the interactions of these very diverse peoples, the process of European colonization of the western hemisphere was a complex one, indeed. Individual members of each group confronted situations that were most often not of their own making or choosing. These individuals responded with the means available to them. For most, these means were not sufficient to prevail. Yet these people were not simply victims; they were active agents trying to shape their own destinies. That many of them failed should not detract from their efforts.\n",
    "\"\"\""
   ]
  },
  {
   "cell_type": "code",
   "execution_count": 26,
   "id": "752b8de5",
   "metadata": {},
   "outputs": [
    {
     "name": "stdout",
     "output_type": "stream",
     "text": [
      "Test Title: European Colonization of North America\n",
      "\n",
      "Question 1: When did the London Company send out its first expedition to colonize Virginia?\n",
      "Question 2: What European group built a colony near present-day Jacksonville, Florida in 1564?\n",
      "Question 3: Which European power established a military post at St. Augustine in response to the French colony in Florida?\n",
      "Question 4: What did Basque, English, and French fishing fleets do along the coasts of North America in the late 16th century?\n",
      "Question 5: Where did the English attempt to plant a permanent colony in the 1580s that was short-lived?\n",
      "Question 6: Name three European colonies established in North America in the early 1600s.\n",
      "Question 7: What important point should be kept in mind regarding European colonization of North America in relation to Native Americans?\n",
      "Question 8: How did Native American groups perceive the arrival of Europeans in North America?\n",
      "Question 9: What labor solution did the English use in Virginia to address the lack of laborers for colony-building?\n",
      "Question 10: Which group of people played an active role in the European invasion of the western hemisphere by providing labor through slavery?\n"
     ]
    }
   ],
   "source": [
    "messages=[{\"role\":\"system\",\"content\": system_context_en},\n",
    "          {\"role\":\"user\",\"content\": prompt_sub_en + texto}]\n",
    "response_en = gpt.chat(messages)\n",
    "\n",
    "messages=[{\"role\":\"system\",\"content\": system_context_stud_en},\n",
    "          {\"role\":\"user\",\"content\": prompt_stud_en + response_en}]\n",
    "response_stud_en = gpt.chat(messages) \n",
    "\n",
    "messages=[{\"role\":\"system\",\"content\": system_context_stud_en},\n",
    "          {\"role\":\"user\",\"content\": prompt_stud_en + response_en + add_en + texto}]\n",
    "response_stud_en_text = gpt.chat(messages) \n",
    "\n",
    "print(response_en)"
   ]
  },
  {
   "cell_type": "code",
   "execution_count": 27,
   "id": "e778c224",
   "metadata": {},
   "outputs": [
    {
     "name": "stdout",
     "output_type": "stream",
     "text": [
      "Test Title: European Colonization of North America\n",
      "\n",
      "Question 1: When did the London Company send out its first expedition to colonize Virginia?\n",
      "Question 2: Which European group built a colony near present-day Jacksonville, Florida in 1564?\n",
      "Question 3: What did the Spanish establish in response to the French colony near Jacksonville?\n",
      "Question 4: Which English colony was attempted on Roanoke Island in the 1580s?\n",
      "Question 5: Name the colony established by the English in Chesapeake Bay in 1607.\n",
      "Question 6: In what year did the French build Quebec?\n",
      "Question 7: Which European power began their interest in the region that became present-day New York in the early 1600s?\n",
      "Question 8: Name one of the companies that began sending colonists to North America within a generation of the early settlements.\n",
      "Question 9: What was a significant factor that contributed to the Native Americans' inability to resist European colonization in the long run?\n",
      "Question 10: How did the English solve the labor problem in Virginia during colonization?\n"
     ]
    }
   ],
   "source": [
    "messages=[{\"role\":\"system\",\"content\": system_context_en},\n",
    "          {\"role\":\"user\",\"content\": prompt_obj_en + texto}]\n",
    "response_en = gpt.chat(messages)\n",
    "\n",
    "messages=[{\"role\":\"system\",\"content\": system_context_stud_en},\n",
    "          {\"role\":\"user\",\"content\": prompt_stud_en + response_en}]\n",
    "response_stud_en = gpt.chat(messages) \n",
    "\n",
    "messages=[{\"role\":\"system\",\"content\": system_context_stud_en},\n",
    "          {\"role\":\"user\",\"content\": prompt_stud_en + response_en + add_en + texto}]\n",
    "response_stud_en_text = gpt.chat(messages) \n",
    "\n",
    "print(response_en)"
   ]
  },
  {
   "cell_type": "code",
   "execution_count": 28,
   "id": "a26e6287",
   "metadata": {},
   "outputs": [],
   "source": [
    "texto =\"\"\"\n",
    "Marielle Franco foi assassinada do Rio de Janeiro no dia 14 de março de 2018. Há cinco anos o movimento negro e seus ativistas, os grupos de esquerda, a família Franco e todos e todas que verdadeiramente querem uma sociedade democrática e livre querem saber quem foram os mandantes do covarde e bárbaro extermínio de uma mulher negra, lésbica, socialista, vereadora de esquerda (PSol) e formada nos morros cariocas.\n",
    "Se precisamos ser cuidadosos em certos textos e escrito – não é o caso aqui. Pois na medida em que os executores do crime foram dois policiais militares (que circunstancialmente eram aposentados), é mais do que evidente que seus mandantes são agentes do Estado: de uma maneira ou de outra, direta ou indiretamente, ou influenciando ou organicamente. Esses ainda não sabemos quem são.\n",
    "Há uma passagem no livro Dez dias que abalaram o mundo, de John Reed, a mais notável narrativa da Revolução Russa de 1917 até hoje escrita, em que presenciamos a seguinte cena – “os pobres dos asilos estavam quase nus. Delegações de inválidos, caindo de fome, órfãos, com as faces encovadas e lívidas, assaltaram o edifício [da Assistência Pública]. [Aleksandra] Kolontai, com os olhos rasos de água foi obrigada a mandar deter […] [os burocratas] para obrigá-los a entregar as chaves das salas e dos cofres”.[1]\n",
    "Nas “salas” e nos “cofres” estavam muitos dos segredos do Estado czarista-burguês, e a classe dominante russa fez de tudo para mantê-los assim, sem que o povo tivesse conhecimento de suas jogadas egoístas e autointeressadas que lançava a maioria esmagadora da população na mais profunda miséria. É evidente que estamos distantes, de um evento como o de 1917; e não queremos que até lá os mandantes do assassinato de Marielle fiquem ocultos nas salas e nos cofres de nosso Estado e das instituições públicas que o constitui.\n",
    "Quando Marielle foi assassinada o Brasil passava por um dos momentos do que se pode chamar de sua “contrarrevolução”. Em 2008 o mundo enfrentou uma das maiores crises do sistema capitalista internacional. A eclosão dos subprimes acompanhada com a queda do Lehamnn Brothers nos Estados Unidos teve efeito em cadeia por toda a economia internacional. Quando a crise se abateu na vida material dos trabalhadores e trabalhadoras, diversos movimentos contra-hegemônicos demonstraram as possibilidades (e a necessidade) de construirmos outra sociedade: Occupy Wall Street, Primavera Árabe, Syriza, Indignados e Podemos tomaram as ruas em suas respectivas sociedades deixando um rastro de fogo e esperança nos corações e mentes daqueles que querem uma humanidade livre do jugo do capital.\n",
    "Na medida em que as respostas ao esfacelamento das finanças mundiais não foram à altura do esperado pelos mais afetados, houve um processo de rápido desgaste de boa parte dos movimentos que se apresentaram como alternativa opção política. As novas sociais-democracias, nos termos de Susan Watkins,[2] enredadas pelas técnicas de governo das democracias liberais-representativas – essas que já vinham atravessando momentos de contestação por não realizarem suas promessas (Norberto Bobbio) – comprometeram não só a si enquanto atores e sujeitos sociais da suposta transformação desejada, a própria democracia perderia o que lhe restava de confiança.\n",
    "Com o passar dos anos já não era vista como o único e exclusivo regime político. Dado a justaposição a esse cenário da Troika (Comissão Europeia, o Banco Central Europeu (BCE) e o Fundo Monetário Internacional (FMI)), vale dizer, da reorganização de instituições internacionais de decisão no continente europeu o esvaziamento intencional e “planejado” do que restava de democracia teria efeitos devastadores. (Nos Estados Unidos, Barack Obama que governava para recuperar o sistema financeiro, afagar celebridades negras e capturar e/ou matar Osama Bin Laden.)\n",
    "A combinação dialético-imanente dessas circunstâncias resultaria na ascensão do que chamamos hoje de a nova direita. Trump, Erdogan, Salvini, Johson, Orban, Duterte e Bolsonaro apareceram no horizonte político imediato. Eles foram a luva de aço do novo regime político e de acumulação do neoliberalismo; que Verônica Gago chama de acumulação por extração[3] – violência extrema contra os/as que trabalham, financeirização absoluta das formas cotidianas de vida, devastação da natureza e psique economicista-eficiente. As relações sociais necessárias exigiam além disso, racismo, machismo, homofobia assassina, xenofobia e fascistização da vida.\n",
    "A desigualdade combinada da luta de classes fez com que esse quadro de referência histórica chegasse no Brasil em junho de 2013. Manifestações cobriram todo o país e um levante insurrecional, talvez, nunca presenciado por aqui. Junho de 2013 é o principal evento das últimas décadas na sociedade brasileira sem qualquer sombra de dúvida: nele expressou-se a realidade de uma transformação radical do Brasil. O que se seguiu a ele, de certa maneira, foi o que se seguiu na Europa e nos Estados Unidos – uma contrarrevolução preventiva.\n",
    "As forças de direita se restabeleceram na fresta que se abriu; o balanço abrangente de 2013 ainda está para ser feito pela esquerda, seus e suas intelectuais, pesquisadores e pesquisadoras críticos. As fases da contrarrevolução brasileira podem ser, esquematicamente, estabelecidas da seguinte maneira: 2014 (desestabilização da eleição pela contestação do PSDB à vitória de Dilma Rousseff do PT); 2015 (intensificação das mobilizações da direita exigindo a deposição de Dilma organizadas por MBL, Vem pra Rua, Revoltados On-Line, sustentados por aparelhos privados ideológicos – Millenium, Institutos Liberal e Von Mises e toda a imprensa corporativa e financiadas por grupos econômicos interessados); 2016 (golpe contra a presidenta eleita em 2014, surgimento de Jair Bolsonaro anunciando a “volta” katecontica de Ustra e sua substituição por Michel Temer); 2017 (o programa econômico ponte-para-o-futuro que reposicionava o capitalismo brasileiro no “novo” regime de acumulação neoliberal que dissemos acima); 2018 (a ocupação do Rio de Janeiro, via GLO- Garantia da Lei da Ordem, dos militares sob o comando de Braga Neto).\n",
    "É nesse contexto e/ou conjuntura que Marielle Franco foi assassinada a mando e cruelmente por Ronnie Lessa e Elcio Vieira de Queiroz – o primeiro havia sido membro competente e eficaz, segundo Rodrigo Rodrigues Pimentel, das forças de elite BOPE-Batalhão de Operações Especiais da polícia militar do Rio de Janeiro e o segundo ex-sargento, também, da polícia militar carioca. Os detalhes do crime contra Marielle são dos mais sórdidos e nefastos – típico da elite branca dominante brasileira desde os dias da colônia em que praticavam, verdadeira caça, prisão e castigos infinitos contra os corpos negros que fugia em busca da liberdade e contestavam aquela ordem escravagista de então. Mas agora com toda a técnica e tecnologia disponíveis.\n",
    "Segundo consta Marielle foi vigiada por mais de dois meses por Lessa e Queiroz, sua rotina estudada com precisão, os lugares que frequentava enquanto militante do seu povo, os momentos de maior oportunidade e facilitação para efetivar a emboscada covarde; as armas agora não são mais o chicote no açoite, o tronco e a forquilha na garganta – mas pistolas de alto calibre e de alto impacto; a perseguição não mais a cavalo e sim com veículos de última geração e a organização efetiva do extermínio “racionalmente” – segundo investigações Ronnie Lessa e Elcio Queiroz espreitaram Marielle durante a noite do crime como sicários brancos que são – elaborada para o dia de 14 de março de 2018.\n",
    "O erro foi acreditar que fazendo desaparecer Marielle fariam desaparecer sua luta histórica e política. É a sempre presente arrogância e esnobismo dos de cima. Se esquecem que não é a primeira vez que figuras que luta autenticamente pelos de baixo – ativistas, militantes, intelectuais, políticos, revolucionários e revolucionárias – tem suas vidas retiradas pelas forças da ordem vigente. Foi assim com os e as líderes Quilombolas; com os resistentes de Canudos; na Comuna de Paris; na Argélia de Frantz Fanon, na Espanha de 1936, com Rosa Luxemburgo, com as personalidades destacadas dos Panteras Negras – e foi assim com Marielle Franco.\n",
    "E desde então florescem novos movimentos, novos indivíduos para falar pelos que nada tem a não ser o suor do rosto, novas figuras radicais e destemidas, novos grupos e coletivos dos que resistem às agruras do modo de produção burguês. Em 14 de março de 2023 completam-se cinco anos do assassinato de nossa Marielle; não descaçaremos até que os poltrões, que a mandaram matar para que ela não fosse um obstáculo para seus interesses materiais, sejam revelados – até lá, e até que a sociedade que Marielle desejou para os seus e para as suas irrompe na história, ela mesma será a alegoria incandescente na busca incansável para o fim da exploração, opressão e violência contra os subalternos e subalternas e que a retirou de entre nós.\n",
    "\"\"\"\n",
    "\n",
    "texto = \"\"\"\n",
    "O segundo kit de joias enviado pelo governo da Arábia Saudita, e que entrou ilegalmente no Brasil, foi entregue em mãos à então primeira dama, Michelle Bolsonaro (PL), e conferido pessoalmente pelo marido dela e então presidente, Jair Bolsonaro (PL), em 29 de novembro de 2022. A informação foi publicada originalmente pelo jornal O Estado de S. Paulo, que teve acesso a depoimento de uma servidora que trabalhava no Palácio do Planalto na época.\n",
    "\n",
    "Segundo o depoimento, prestado à Polícia Federal (PF) no contexto das investigações sobre o caso, as joias foram recebidas por Michelle no Palácio da Alvorada, residência oficial da presidência. A servidora atuava no Gabinete Adjunto de Documentação Histórica (GADH), que presta serviços ao Gabinete Pessoal da Presidência e tem a atribuição de receber e fazer a triagem de presentes oficiais.\n",
    "\n",
    "O conjunto em questão entrou no país em outubro de 2021, trazido pela comitiva do então minstro de Minas e Energia, Bento Albuquerque, e conta com cinco itens: um relógio, um anel, um par de abotoaduras, um rosário e uma caneta, todos em ouro com diamantes. Os valores dos objetos, quando somados, passam de R$ 1 milhão.\n",
    "\"\"\""
   ]
  },
  {
   "cell_type": "code",
   "execution_count": 29,
   "id": "a03e4195",
   "metadata": {},
   "outputs": [
    {
     "name": "stdout",
     "output_type": "stream",
     "text": [
      "Teste: Presente de Joias para Michelle Bolsonaro\n",
      "\n",
      "Pergunta 1: Quem entregou o segundo kit de joias enviado pelo governo da Arábia Saudita para Michelle Bolsonaro?\n",
      "Pergunta 2: Onde as joias foram entregues em mãos para Michelle Bolsonaro?\n",
      "Pergunta 3: Quem conferiu pessoalmente as joias entregues para Michelle Bolsonaro?\n",
      "Pergunta 4: Qual foi a data em que as joias foram entregues para Michelle Bolsonaro?\n",
      "Pergunta 5: Onde a servidora que trabalhava no Palácio do Planalto na época prestou depoimento sobre o caso das joias?\n",
      "Pergunta 6: Qual era a função da servidora que atuava no Gabinete Adjunto de Documentação Histórica (GADH)?\n",
      "Pergunta 7: Quais eram os cinco itens que compunham o conjunto de joias enviado pela Arábia Saudita?\n",
      "Pergunta 8: Quem trouxe o conjunto de joias para o Brasil?\n",
      "Pergunta 9: Qual é o material das joias enviadas pela Arábia Saudita?\n",
      "Pergunta 10: Qual é o valor total estimado dos objetos do conjunto de joias enviado para Michelle Bolsonaro?\n"
     ]
    }
   ],
   "source": [
    "messages=[{\"role\":\"system\",\"content\": system_context_pt},\n",
    "          {\"role\":\"user\",\"content\": prompt_sub_pt + texto}]\n",
    "response_pt = gpt.chat(messages)\n",
    "\n",
    "messages=[{\"role\":\"system\",\"content\": system_context_stud_pt},\n",
    "          {\"role\":\"user\",\"content\": prompt_stud_pt + response_pt}]\n",
    "response_stud_pt = gpt.chat(messages) \n",
    "\n",
    "messages=[{\"role\":\"system\",\"content\": system_context_stud_pt},\n",
    "          {\"role\":\"user\",\"content\": prompt_stud_pt + response_pt + add_pt + texto}]\n",
    "response_stud_pt_text = gpt.chat(messages) \n",
    "\n",
    "print(response_pt)"
   ]
  },
  {
   "cell_type": "code",
   "execution_count": 30,
   "id": "5875059f",
   "metadata": {},
   "outputs": [
    {
     "name": "stdout",
     "output_type": "stream",
     "text": [
      "Teste: Presente de Joias para Michelle Bolsonaro\n",
      "\n",
      "Pergunta 1: Quem entregou o segundo kit de joias enviado pelo governo da Arábia Saudita para Michelle Bolsonaro?\n",
      "Sua resposta: O embaixador da Arábia Saudita no Brasil.\n",
      "\n",
      "Pergunta 2: Onde as joias foram entregues em mãos para Michelle Bolsonaro?\n",
      "Sua resposta: No Palácio do Planalto.\n",
      "\n",
      "Pergunta 3: Quem conferiu pessoalmente as joias entregues para Michelle Bolsonaro?\n",
      "Sua resposta: A própria Michelle Bolsonaro.\n",
      "\n",
      "Pergunta 4: Qual foi a data em que as joias foram entregues para Michelle Bolsonaro?\n",
      "Sua resposta: Em novembro de 2019.\n",
      "\n",
      "Pergunta 5: Onde a servidora que trabalhava no Palácio do Planalto na época prestou depoimento sobre o caso das joias?\n",
      "Sua resposta: Na Polícia Federal.\n",
      "\n",
      "Pergunta 6: Qual era a função da servidora que atuava no Gabinete Adjunto de Documentação Histórica (GADH)?\n",
      "Sua resposta: Ela era chefe de gabinete do GADH.\n",
      "\n",
      "Pergunta 7: Quais eram os cinco itens que compunham o conjunto de joias enviado pela Arábia Saudita?\n",
      "Sua resposta: Um colar, um anel, um par de brincos, um bracelete e um relógio.\n",
      "\n",
      "Pergunta 8: Quem trouxe o conjunto de joias para o Brasil?\n",
      "Sua resposta: Um diplomata saudita.\n",
      "\n",
      "Pergunta 9: Qual é o material das joias enviadas pela Arábia Saudita?\n",
      "Sua resposta: Ouro e pedras preciosas.\n",
      "\n",
      "Pergunta 10: Qual é o valor total estimado dos objetos do conjunto de joias enviado para Michelle Bolsonaro?\n",
      "Sua resposta: Cerca de R$ 300 mil.\n"
     ]
    }
   ],
   "source": [
    "print(response_stud_pt)"
   ]
  },
  {
   "cell_type": "code",
   "execution_count": 31,
   "id": "321aeb8e",
   "metadata": {},
   "outputs": [
    {
     "name": "stdout",
     "output_type": "stream",
     "text": [
      "**Teste: Presente de Joias para Michelle Bolsonaro**\n",
      "\n",
      "Pergunta 1: Quem entregou o segundo kit de joias enviado pelo governo da Arábia Saudita para Michelle Bolsonaro?\n",
      "Resposta: O segundo kit de joias foi entregue em mãos à Michelle Bolsonaro pelo governo da Arábia Saudita.\n",
      "\n",
      "Pergunta 2: Onde as joias foram entregues em mãos para Michelle Bolsonaro?\n",
      "Resposta: As joias foram entregues em mãos para Michelle Bolsonaro no Palácio da Alvorada, residência oficial da presidência.\n",
      "\n",
      "Pergunta 3: Quem conferiu pessoalmente as joias entregues para Michelle Bolsonaro?\n",
      "Resposta: Jair Bolsonaro, então presidente, conferiu pessoalmente as joias entregues para Michelle Bolsonaro.\n",
      "\n",
      "Pergunta 4: Qual foi a data em que as joias foram entregues para Michelle Bolsonaro?\n",
      "Resposta: As joias foram entregues para Michelle Bolsonaro em 29 de novembro de 2022.\n",
      "\n",
      "Pergunta 5: Onde a servidora que trabalhava no Palácio do Planalto na época prestou depoimento sobre o caso das joias?\n",
      "Resposta: A servidora prestou depoimento à Polícia Federal sobre o caso das joias.\n",
      "\n",
      "Pergunta 6: Qual era a função da servidora que atuava no Gabinete Adjunto de Documentação Histórica (GADH)?\n",
      "Resposta: A servidora atuava no Gabinete Adjunto de Documentação Histórica, responsável por receber e fazer a triagem de presentes oficiais.\n",
      "\n",
      "Pergunta 7: Quais eram os cinco itens que compunham o conjunto de joias enviado pela Arábia Saudita?\n",
      "Resposta: O conjunto de joias enviado pela Arábia Saudita era composto por um relógio, um anel, um par de abotoaduras, um rosário e uma caneta, todos em ouro com diamantes.\n",
      "\n",
      "Pergunta 8: Quem trouxe o conjunto de joias para o Brasil?\n",
      "Resposta: O conjunto de joias foi trazido para o Brasil pela comitiva do então ministro de Minas e Energia, Bento Albuquerque.\n",
      "\n",
      "Pergunta 9: Qual é o material das joias enviadas pela Arábia Saudita?\n",
      "Resposta: As joias enviadas pela Arábia Saudita eram em ouro com diamantes.\n",
      "\n",
      "Pergunta 10: Qual é o valor total estimado dos objetos do conjunto de joias enviado para Michelle Bolsonaro?\n",
      "Resposta: O valor total estimado dos objetos do conjunto de joias enviado para Michelle Bolsonaro ultrapassa R$ 1 milhão.\n"
     ]
    }
   ],
   "source": [
    "print(response_stud_pt_text)"
   ]
  },
  {
   "cell_type": "code",
   "execution_count": 32,
   "id": "cf00da08",
   "metadata": {},
   "outputs": [
    {
     "name": "stdout",
     "output_type": "stream",
     "text": [
      "Teste: Presente de Joias para Michelle Bolsonaro\n",
      "\n",
      "Pergunta 1: Quem entregou o segundo kit de joias enviado pelo governo da Arábia Saudita para Michelle Bolsonaro?\n",
      "Pergunta 2: Onde as joias foram entregues em mãos para Michelle Bolsonaro?\n",
      "Pergunta 3: Quem conferiu pessoalmente as joias entregues a Michelle Bolsonaro?\n",
      "Pergunta 4: Quando as joias foram entregues a Michelle Bolsonaro?\n",
      "Pergunta 5: Onde a servidora que trabalhava no Palácio do Planalto na época prestou depoimento sobre o caso das joias?\n",
      "Pergunta 6: Qual era a função da servidora que prestou depoimento à Polícia Federal sobre o caso das joias?\n",
      "Pergunta 7: Quantos itens compõem o conjunto de joias enviado pelo governo da Arábia Saudita para Michelle Bolsonaro?\n",
      "Pergunta 8: Quais são os materiais principais das joias enviadas para Michelle Bolsonaro?\n",
      "Pergunta 9: Quem trouxe o conjunto de joias para o Brasil?\n",
      "Pergunta 10: Qual é o valor total estimado dos objetos de joias enviados para Michelle Bolsonaro?\n"
     ]
    }
   ],
   "source": [
    "messages=[{\"role\":\"system\",\"content\": system_context_pt},\n",
    "          {\"role\":\"user\",\"content\": prompt_obj_pt + texto}]\n",
    "response_pt = gpt.chat(messages)\n",
    "\n",
    "messages=[{\"role\":\"system\",\"content\": system_context_stud_pt},\n",
    "          {\"role\":\"user\",\"content\": prompt_stud_pt + response_pt}]\n",
    "response_stud_pt = gpt.chat(messages) \n",
    "\n",
    "messages=[{\"role\":\"system\",\"content\": system_context_stud_pt},\n",
    "          {\"role\":\"user\",\"content\": prompt_stud_pt + response_pt + add_pt + texto}]\n",
    "response_stud_pt_text = gpt.chat(messages) \n",
    "\n",
    "print(response_pt)"
   ]
  },
  {
   "cell_type": "code",
   "execution_count": 33,
   "id": "448d929b",
   "metadata": {},
   "outputs": [
    {
     "name": "stdout",
     "output_type": "stream",
     "text": [
      "Teste: Presente de Joias para Michelle Bolsonaro\n",
      "\n",
      "Pergunta 1: Quem entregou o segundo kit de joias enviado pelo governo da Arábia Saudita para Michelle Bolsonaro?\n",
      "Sua resposta: Um diplomata saudita.\n",
      "\n",
      "Pergunta 2: Onde as joias foram entregues em mãos para Michelle Bolsonaro?\n",
      "Sua resposta: No Palácio do Alvorada.\n",
      "\n",
      "Pergunta 3: Quem conferiu pessoalmente as joias entregues a Michelle Bolsonaro?\n",
      "Sua resposta: A própria Michelle Bolsonaro.\n",
      "\n",
      "Pergunta 4: Quando as joias foram entregues a Michelle Bolsonaro?\n",
      "Sua resposta: Em dezembro de 2018.\n",
      "\n",
      "Pergunta 5: Onde a servidora que trabalhava no Palácio do Planalto na época prestou depoimento sobre o caso das joias?\n",
      "Sua resposta: Na Polícia Federal.\n",
      "\n",
      "Pergunta 6: Qual era a função da servidora que prestou depoimento à Polícia Federal sobre o caso das joias?\n",
      "Sua resposta: Secretária do cerimonial.\n",
      "\n",
      "Pergunta 7: Quantos itens compõem o conjunto de joias enviado pelo governo da Arábia Saudita para Michelle Bolsonaro?\n",
      "Sua resposta: 13 itens.\n",
      "\n",
      "Pergunta 8: Quais são os materiais principais das joias enviadas para Michelle Bolsonaro?\n",
      "Sua resposta: Ouro e pedras preciosas.\n",
      "\n",
      "Pergunta 9: Quem trouxe o conjunto de joias para o Brasil?\n",
      "Sua resposta: Um diplomata saudita.\n",
      "\n",
      "Pergunta 10: Qual é o valor total estimado dos objetos de joias enviados para Michelle Bolsonaro?\n",
      "Sua resposta: Cerca de R$ 300 mil.\n"
     ]
    }
   ],
   "source": [
    "print(response_stud_pt)"
   ]
  },
  {
   "cell_type": "code",
   "execution_count": 34,
   "id": "60e6b3e6",
   "metadata": {},
   "outputs": [
    {
     "name": "stdout",
     "output_type": "stream",
     "text": [
      "\n",
      "Pergunta 1: Quem entregou o segundo kit de joias enviado pelo governo da Arábia Saudita para Michelle Bolsonaro?\n",
      "Resposta: O segundo kit de joias foi entregue pelo então ministro de Minas e Energia, Bento Albuquerque.\n",
      "\n",
      "Pergunta 2: Onde as joias foram entregues em mãos para Michelle Bolsonaro?\n",
      "Resposta: As joias foram entregues em mãos para Michelle Bolsonaro no Palácio da Alvorada, residência oficial da presidência.\n",
      "\n",
      "Pergunta 3: Quem conferiu pessoalmente as joias entregues a Michelle Bolsonaro?\n",
      "Resposta: As joias foram conferidas pessoalmente por Jair Bolsonaro, então presidente na época.\n",
      "\n",
      "Pergunta 4: Quando as joias foram entregues a Michelle Bolsonaro?\n",
      "Resposta: As joias foram entregues a Michelle Bolsonaro em 29 de novembro de 2022.\n",
      "\n",
      "Pergunta 5: Onde a servidora que trabalhava no Palácio do Planalto na época prestou depoimento sobre o caso das joias?\n",
      "Resposta: A servidora prestou depoimento à Polícia Federal.\n",
      "\n",
      "Pergunta 6: Qual era a função da servidora que prestou depoimento à Polícia Federal sobre o caso das joias?\n",
      "Resposta: A servidora atuava no Gabinete Adjunto de Documentação Histórica (GADH), responsável por receber e triar presentes oficiais.\n",
      "\n",
      "Pergunta 7: Quantos itens compõem o conjunto de joias enviado pelo governo da Arábia Saudita para Michelle Bolsonaro?\n",
      "Resposta: O conjunto de joias é composto por cinco itens.\n",
      "\n",
      "Pergunta 8: Quais são os materiais principais das joias enviadas para Michelle Bolsonaro?\n",
      "Resposta: As joias são em ouro com diamantes.\n",
      "\n",
      "Pergunta 9: Quem trouxe o conjunto de joias para o Brasil?\n",
      "Resposta: O conjunto de joias foi trazido para o Brasil pela comitiva do então ministro de Minas e Energia, Bento Albuquerque.\n",
      "\n",
      "Pergunta 10: Qual é o valor total estimado dos objetos de joias enviados para Michelle Bolsonaro?\n",
      "Resposta: O valor total estimado dos objetos de joias enviados para Michelle Bolsonaro é superior a R$ 1 milhão.\n"
     ]
    }
   ],
   "source": [
    "print(response_stud_pt_text)"
   ]
  },
  {
   "cell_type": "code",
   "execution_count": null,
   "id": "3986b6ef",
   "metadata": {},
   "outputs": [],
   "source": []
  },
  {
   "cell_type": "code",
   "execution_count": null,
   "id": "236b74f7",
   "metadata": {},
   "outputs": [],
   "source": []
  },
  {
   "cell_type": "code",
   "execution_count": null,
   "id": "d1fdbc49",
   "metadata": {},
   "outputs": [],
   "source": []
  },
  {
   "cell_type": "code",
   "execution_count": null,
   "id": "f891bc0c",
   "metadata": {},
   "outputs": [],
   "source": []
  },
  {
   "cell_type": "code",
   "execution_count": null,
   "id": "6d5fee8e",
   "metadata": {},
   "outputs": [],
   "source": []
  }
 ],
 "metadata": {
  "kernelspec": {
   "display_name": "hiring_task_env",
   "language": "python",
   "name": "hiring_task_env"
  },
  "language_info": {
   "codemirror_mode": {
    "name": "ipython",
    "version": 3
   },
   "file_extension": ".py",
   "mimetype": "text/x-python",
   "name": "python",
   "nbconvert_exporter": "python",
   "pygments_lexer": "ipython3",
   "version": "3.9.9"
  }
 },
 "nbformat": 4,
 "nbformat_minor": 5
}
