{
 "cells": [
  {
   "cell_type": "code",
   "execution_count": 1,
   "id": "e7379ae6",
   "metadata": {},
   "outputs": [],
   "source": [
    "import pandas as pd\n",
    "import os\n",
    "from IPython.display import JSON\n",
    "import json\n",
    "import warnings\n",
    "warnings.filterwarnings('ignore', category=UserWarning)\n",
    "\n",
    "import helpers\n",
    "import api \n",
    "gpt = api.GPT(model='gpt-3.5-turbo')"
   ]
  },
  {
   "cell_type": "code",
   "execution_count": 2,
   "id": "5d1a34ce",
   "metadata": {},
   "outputs": [],
   "source": [
    "## topic, topic_description, n_question, bloom_level, difficulty_level\n",
    "system_context, user_prompt = helpers.prompt_builder([[\"Gramaticalização\", \"As palavras costumam adquirir novas funções ao longo do tempo e conforme o uso. Muitas vezes, palavras que normalmente expressam um significado pleno assumem um sentido estendido ou outras funções na oração. Esse processo, chamado por alguns autores de gramaticalização, é extremamente ativo nas línguas.\", 5, \"analyse\", \"advanced\"]])\n",
    "\n",
    "\n",
    "messages=[{\"role\":\"system\",\"content\": system_context},\n",
    "          {\"role\":\"user\",\"content\": user_prompt}]\n",
    "response = json.loads(gpt.chat(messages))"
   ]
  },
  {
   "cell_type": "code",
   "execution_count": 3,
   "id": "d1fdbc49",
   "metadata": {},
   "outputs": [
    {
     "data": {
      "text/plain": [
       "{'title': 'Avaliação de Gramaticalização',\n",
       " 'topics': [{'topic': 'Gramaticalização',\n",
       "   'topic_description': 'As palavras costumam adquirir novas funções ao longo do tempo e conforme o uso. Muitas vezes, palavras que normalmente expressam um significado pleno assumem um sentido estendido ou outras funções na oração. Esse processo, chamado por alguns autores de gramaticalização, é extremamente ativo nas línguas.',\n",
       "   'bloom_level': 'Analisar',\n",
       "   'difficult_level': 'Avançado',\n",
       "   'questions': [{'context': 'Na gramaticalização, as palavras passam por um processo de mudança em sua função original. Qual das seguintes afirmativas melhor exemplifica esse fenômeno?',\n",
       "     'question': 'O que caracteriza a gramaticalização?',\n",
       "     'options': [{'option': 'A transformação de palavras de uma língua para outra.',\n",
       "       'correct': False},\n",
       "      {'option': 'A mudança de palavras de uma classe gramatical para outra.',\n",
       "       'correct': True},\n",
       "      {'option': 'A criação de novas palavras a partir de radicais existentes.',\n",
       "       'correct': False},\n",
       "      {'option': 'A exclusão de palavras obsoletas do vocabulário.',\n",
       "       'correct': False}]},\n",
       "    {'context': 'A gramaticalização é um processo linguístico que ocorre ao longo do tempo. Qual das seguintes opções melhor representa um exemplo desse processo?',\n",
       "     'question': 'Como a gramaticalização se manifesta na evolução das línguas?',\n",
       "     'options': [{'option': 'A simplificação da estrutura gramatical.',\n",
       "       'correct': False},\n",
       "      {'option': 'A complexificação das regras de pronúncia.',\n",
       "       'correct': False},\n",
       "      {'option': 'A transformação de advérbios em preposições.',\n",
       "       'correct': True},\n",
       "      {'option': 'A fusão de dialetos distintos em uma única língua.',\n",
       "       'correct': False}]}]}]}"
      ]
     },
     "execution_count": 3,
     "metadata": {},
     "output_type": "execute_result"
    }
   ],
   "source": [
    "response"
   ]
  },
  {
   "cell_type": "code",
   "execution_count": 4,
   "id": "f891bc0c",
   "metadata": {},
   "outputs": [],
   "source": [
    "# adding real question there\n",
    "response['topics'][0]['questions'].append(\n",
    "{'context': 'Na gramaticalização, uma palavra pode...',\n",
    " 'question': '1. A pergunta que cabe e na verdade chega atrasada ao jornalista brasileiro é se existem ou não condições para promover um debate honesto. (O Globo, 25/09/2016) 2. Chega de quebrar a cara com você / Já sei que continuar te amando não dá mais (Zezé di Camargo e Luciano, 2008) 3. Chega! “Que mundo é esse?”, eu me pergunto / Chega! Quero sorrir, mudar de assunto (Gabriel O Pensador, 2015) 4. Dá mais um passo, chega mais perto. (OPA, 2006)5. Quando chega o meu cartão de confirmação de inscrição no Enem? 6. Quem nasceu para vintém, não chega a quinhentos réis. Em quais das citações abaixo o verbo “chegar” desempenha um papel mais próximo de seu sentido e função originais? ',\n",
    " 'options': [{'option': '2 e 3',\n",
    "   'correct': False},\n",
    "  {'option': '4 e 6', 'correct': False},\n",
    "  {'option': '4 e 5', 'correct': False},\n",
    "  {'option': '1 e 5', 'correct': True}]}\n",
    ")"
   ]
  },
  {
   "cell_type": "code",
   "execution_count": 5,
   "id": "6d5fee8e",
   "metadata": {},
   "outputs": [
    {
     "data": {
      "text/plain": [
       "{'title': 'Avaliação de Gramaticalização',\n",
       " 'topics': [{'topic': 'Gramaticalização',\n",
       "   'topic_description': 'As palavras costumam adquirir novas funções ao longo do tempo e conforme o uso. Muitas vezes, palavras que normalmente expressam um significado pleno assumem um sentido estendido ou outras funções na oração. Esse processo, chamado por alguns autores de gramaticalização, é extremamente ativo nas línguas.',\n",
       "   'bloom_level': 'Analisar',\n",
       "   'difficult_level': 'Avançado',\n",
       "   'questions': [{'context': 'Na gramaticalização, as palavras passam por um processo de mudança em sua função original. Qual das seguintes afirmativas melhor exemplifica esse fenômeno?',\n",
       "     'question': 'O que caracteriza a gramaticalização?',\n",
       "     'options': [{'option': 'A transformação de palavras de uma língua para outra.',\n",
       "       'correct': False},\n",
       "      {'option': 'A mudança de palavras de uma classe gramatical para outra.',\n",
       "       'correct': True},\n",
       "      {'option': 'A criação de novas palavras a partir de radicais existentes.',\n",
       "       'correct': False},\n",
       "      {'option': 'A exclusão de palavras obsoletas do vocabulário.',\n",
       "       'correct': False}]},\n",
       "    {'context': 'A gramaticalização é um processo linguístico que ocorre ao longo do tempo. Qual das seguintes opções melhor representa um exemplo desse processo?',\n",
       "     'question': 'Como a gramaticalização se manifesta na evolução das línguas?',\n",
       "     'options': [{'option': 'A simplificação da estrutura gramatical.',\n",
       "       'correct': False},\n",
       "      {'option': 'A complexificação das regras de pronúncia.',\n",
       "       'correct': False},\n",
       "      {'option': 'A transformação de advérbios em preposições.',\n",
       "       'correct': True},\n",
       "      {'option': 'A fusão de dialetos distintos em uma única língua.',\n",
       "       'correct': False}]},\n",
       "    {'context': 'Na gramaticalização, uma palavra pode...',\n",
       "     'question': '1. A pergunta que cabe e na verdade chega atrasada ao jornalista brasileiro é se existem ou não condições para promover um debate honesto. (O Globo, 25/09/2016) 2. Chega de quebrar a cara com você / Já sei que continuar te amando não dá mais (Zezé di Camargo e Luciano, 2008) 3. Chega! “Que mundo é esse?”, eu me pergunto / Chega! Quero sorrir, mudar de assunto (Gabriel O Pensador, 2015) 4. Dá mais um passo, chega mais perto. (OPA, 2006)5. Quando chega o meu cartão de confirmação de inscrição no Enem? 6. Quem nasceu para vintém, não chega a quinhentos réis. Em quais das citações abaixo o verbo “chegar” desempenha um papel mais próximo de seu sentido e função originais? ',\n",
       "     'options': [{'option': '2 e 3', 'correct': False},\n",
       "      {'option': '4 e 6', 'correct': False},\n",
       "      {'option': '4 e 5', 'correct': False},\n",
       "      {'option': '1 e 5', 'correct': True}]}]}]}"
      ]
     },
     "execution_count": 5,
     "metadata": {},
     "output_type": "execute_result"
    }
   ],
   "source": [
    "response"
   ]
  },
  {
   "cell_type": "code",
   "execution_count": 6,
   "id": "16b806e0",
   "metadata": {},
   "outputs": [
    {
     "name": "stdout",
     "output_type": "stream",
     "text": [
      "({'rougeL': Score(precision=0.6666666666666666, recall=0.08163265306122448, fmeasure=0.14545454545454545)}, 4.087050154794802e-235)\n",
      "As palavras costumam adquirir novas funções ao longo do tempo e conforme o uso. Muitas vezes, palavras que normalmente expressam um significado pleno assumem um sentido estendido ou outras funções na oração. Esse processo, chamado por alguns autores de gramaticalização, é extremamente ativo nas línguas.\n",
      "O que caracteriza a gramaticalização?\n",
      "#########\n",
      "({'rougeL': Score(precision=0.4166666666666667, recall=0.10204081632653061, fmeasure=0.16393442622950824)}, 1.9265033501796408e-233)\n",
      "As palavras costumam adquirir novas funções ao longo do tempo e conforme o uso. Muitas vezes, palavras que normalmente expressam um significado pleno assumem um sentido estendido ou outras funções na oração. Esse processo, chamado por alguns autores de gramaticalização, é extremamente ativo nas línguas.\n",
      "Como a gramaticalização se manifesta na evolução das línguas?\n",
      "#########\n",
      "({'rougeL': Score(precision=0.06060606060606061, recall=0.16326530612244897, fmeasure=0.08839779005524862)}, 1.0003688322288243e-231)\n",
      "As palavras costumam adquirir novas funções ao longo do tempo e conforme o uso. Muitas vezes, palavras que normalmente expressam um significado pleno assumem um sentido estendido ou outras funções na oração. Esse processo, chamado por alguns autores de gramaticalização, é extremamente ativo nas línguas.\n",
      "1. A pergunta que cabe e na verdade chega atrasada ao jornalista brasileiro é se existem ou não condições para promover um debate honesto. (O Globo, 25/09/2016) 2. Chega de quebrar a cara com você / Já sei que continuar te amando não dá mais (Zezé di Camargo e Luciano, 2008) 3. Chega! “Que mundo é esse?”, eu me pergunto / Chega! Quero sorrir, mudar de assunto (Gabriel O Pensador, 2015) 4. Dá mais um passo, chega mais perto. (OPA, 2006)5. Quando chega o meu cartão de confirmação de inscrição no Enem? 6. Quem nasceu para vintém, não chega a quinhentos réis. Em quais das citações abaixo o verbo “chegar” desempenha um papel mais próximo de seu sentido e função originais? \n",
      "#########\n"
     ]
    }
   ],
   "source": [
    "for question in response['topics'][0]['questions']:\n",
    "    print(helpers.evaluate_generated_mcq(response['topics'][0]['topic_description'], question['question']))\n",
    "    print(response['topics'][0]['topic_description'])\n",
    "    print(question['question'])\n",
    "    print(\"#########\")"
   ]
  },
  {
   "cell_type": "code",
   "execution_count": 9,
   "id": "6f4be103",
   "metadata": {},
   "outputs": [],
   "source": [
    "system_context, user_prompt = helpers.evaluator_builder(response)\n",
    "\n",
    "\n",
    "messages=[{\"role\":\"system\",\"content\": system_context},\n",
    "          {\"role\":\"user\",\"content\": user_prompt}]\n",
    "res = gpt.chat(messages)\n",
    "#response_eval = json.loads(res)"
   ]
  },
  {
   "cell_type": "code",
   "execution_count": 10,
   "id": "690c63dd",
   "metadata": {},
   "outputs": [
    {
     "data": {
      "text/plain": [
       "'{\\n    \"title\": \"Avaliação de Gramaticalização\",\\n    \"topics\": [\\n        {\\n            \"topic\": \"Gramaticalização\",\\n            \"topic_description\": \"As palavras costumam adquirir novas funções ao longo do tempo e conforme o uso. Muitas vezes, palavras que normalmente expressam um significado pleno assumem um sentido estendido ou outras funções na oração. Esse processo, chamado por alguns autores de gramaticalização, é extremamente ativo nas línguas.\",\\n            \"bloom_level\": \"Analisar\",\\n            \"difficult_level\": \"Avançado\",\\n            \"questions\": [\\n                {\\n                    \"context\": \"Na gramaticalização, as palavras passam por um processo de mudança em sua função original. Qual das seguintes afirmativas melhor exemplifica esse fenômeno?\",\\n                    \"question\": \"O que caracteriza a gramaticalização?\",\\n                    \"options\": [\\n                        {\\n                            \"option\": \"A transformação de palavras de uma língua para outra.\",\\n                            \"correct\": False\\n                        },\\n                        {\\n                            \"option\": \"A mudança de palavras de uma classe gramatical para outra.\",\\n                            \"correct\": True\\n                        },\\n                        {\\n                            \"option\": \"A criação de novas palavras a partir de radicais existentes.\",\\n                            \"correct\": False\\n                        },\\n                        {\\n                            \"option\": \"A exclusão de palavras obsoletas do vocabulário.\",\\n                            \"correct\": False\\n                        }\\n                    ],\\n                    \"relevance\": 5,\\n                    \"adherence\": 5,\\n                    \"grammar\": 5,\\n                    \"answerability\": 5,\\n                    \"correctness\": 5,\\n                    \"feedback\": \"Ótima questão que aborda diretamente o conceito de gramaticalização e sua característica principal.\"\\n                },\\n                {\\n                    \"context\": \"A gramaticalização é um processo linguístico que ocorre ao longo do tempo. Qual das seguintes opções melhor representa um exemplo desse processo?\",\\n                    \"question\": \"Como a gramaticalização se manifesta na evolução das línguas?\",\\n                    \"options\": [\\n                        {\\n                            \"option\": \"A simplificação da estrutura gramatical.\",\\n                            \"correct\": False\\n                        },\\n                        {\\n                            \"option\": \"A complexificação das regras de pronúncia.\",\\n                            \"correct\": False\\n                        },\\n                        {\\n                            \"option\": \"A transformação de advérbios em preposições.\",\\n                            \"correct\": True\\n                        },\\n                        {\\n                            \"option\": \"A fusão de dialetos distintos em uma única língua.\",\\n                            \"correct\": False\\n                        }\\n                    ],\\n                    \"relevance\": 5,\\n                    \"adherence\": 5,\\n                    \"grammar\": 5,\\n                    \"answerability\": 5,\\n                    \"correctness\": 5,\\n                    \"feedback\": \"Excelente questão que explora um exemplo concreto de gramaticalização na evolução das línguas.\"\\n                },\\n                {\\n                    \"context\": \"Na gramaticalização, uma palavra pode...\",\\n                    \"question\": \"1. A pergunta que cabe e na verdade chega atrasada ao jornalista brasileiro é se existem ou não condições para promover um debate honesto. (O Globo, 25/09/2016) 2. Chega de quebrar a cara com você / Já sei que continuar te amando não dá mais (Zezé di Camargo e Luciano, 2008) 3. Chega! “Que mundo é esse?”, eu me pergunto / Chega! Quero sorrir, mudar de assunto (Gabriel O Pensador, 2015) 4. Dá mais um passo, chega mais perto. (OPA, 2006)5. Quando chega o meu cartão de confirmação de inscrição no Enem? 6. Quem nasceu para vintém, não chega a quinhentos réis. Em quais das citações abaixo o verbo “chegar” desempenha um papel mais próximo de seu sentido e função originais? \",\\n                    \"options\": [\\n                        {\\n                            \"option\": \"2 e 3\",\\n                            \"correct\": False\\n                        },\\n                        {\\n                            \"option\": \"4 e 6\",\\n                            \"correct\": False\\n                        },\\n                        {\\n                            \"option\": \"4 e 5\",\\n                            \"correct\": False\\n                        },\\n                        {\\n                            \"option\": \"1 e 5\",\\n                            \"correct\": True\\n                        }\\n                    ],\\n                    \"relevance\": 5,\\n                    \"adherence\": 5,\\n                    \"grammar\": 5,\\n                    \"answerability\": 5,\\n                    \"correctness\": 5,\\n                    \"feedback\": \"Questão desafiadora que requer a compreensão do processo de gramaticalização na língua portuguesa.\"\\n                }\\n            ]\\n        }\\n    ]\\n}'"
      ]
     },
     "execution_count": 10,
     "metadata": {},
     "output_type": "execute_result"
    }
   ],
   "source": [
    "res"
   ]
  },
  {
   "cell_type": "code",
   "execution_count": null,
   "id": "e48f841f",
   "metadata": {},
   "outputs": [],
   "source": []
  },
  {
   "cell_type": "code",
   "execution_count": 11,
   "id": "7e4627f4",
   "metadata": {},
   "outputs": [
    {
     "name": "stdout",
     "output_type": "stream",
     "text": [
      "{'title': 'Avaliação de Gramaticalização', 'topics': [{'topic': 'Gramaticalização', 'topic_description': 'As palavras costumam adquirir novas funções ao longo do tempo e conforme o uso. Muitas vezes, palavras que normalmente expressam um significado pleno assumem um sentido estendido ou outras funções na oração. Esse processo, chamado por alguns autores de gramaticalização, é extremamente ativo nas línguas.', 'bloom_level': 'Analisar', 'difficult_level': 'Avançado', 'questions': [{'context': 'Na gramaticalização, as palavras passam por um processo de mudança em sua função original. Qual das seguintes afirmativas melhor exemplifica esse fenômeno?', 'question': 'O que caracteriza a gramaticalização?', 'options': [{'option': 'A transformação de palavras de uma língua para outra.'}, {'option': 'A mudança de palavras de uma classe gramatical para outra.'}, {'option': 'A criação de novas palavras a partir de radicais existentes.'}, {'option': 'A exclusão de palavras obsoletas do vocabulário.'}]}, {'context': 'A gramaticalização é um processo linguístico que ocorre ao longo do tempo. Qual das seguintes opções melhor representa um exemplo desse processo?', 'question': 'Como a gramaticalização se manifesta na evolução das línguas?', 'options': [{'option': 'A simplificação da estrutura gramatical.'}, {'option': 'A complexificação das regras de pronúncia.'}, {'option': 'A transformação de advérbios em preposições.'}, {'option': 'A fusão de dialetos distintos em uma única língua.'}]}, {'context': 'Na gramaticalização, uma palavra pode...', 'question': '1. A pergunta que cabe e na verdade chega atrasada ao jornalista brasileiro é se existem ou não condições para promover um debate honesto. (O Globo, 25/09/2016) 2. Chega de quebrar a cara com você / Já sei que continuar te amando não dá mais (Zezé di Camargo e Luciano, 2008) 3. Chega! “Que mundo é esse?”, eu me pergunto / Chega! Quero sorrir, mudar de assunto (Gabriel O Pensador, 2015) 4. Dá mais um passo, chega mais perto. (OPA, 2006)5. Quando chega o meu cartão de confirmação de inscrição no Enem? 6. Quem nasceu para vintém, não chega a quinhentos réis. Em quais das citações abaixo o verbo “chegar” desempenha um papel mais próximo de seu sentido e função originais? ', 'options': [{'option': '2 e 3'}, {'option': '4 e 6'}, {'option': '4 e 5'}, {'option': '1 e 5'}]}]}]}\n"
     ]
    }
   ],
   "source": [
    "def remover_correct(dicionario):\n",
    "    if isinstance(dicionario, list):\n",
    "        for item in dicionario:\n",
    "            remover_correct(item)\n",
    "    elif isinstance(dicionario, dict):\n",
    "        if \"correct\" in dicionario:\n",
    "            del dicionario[\"correct\"]\n",
    "        for valor in dicionario.values():\n",
    "            remover_correct(valor)\n",
    "\n",
    "# Remover todas as chaves \"correct\"\n",
    "response_ans = response\n",
    "remover_correct(response_ans)\n",
    "\n",
    "# Imprimir o dicionário modificado\n",
    "print(response_ans)"
   ]
  },
  {
   "cell_type": "code",
   "execution_count": 12,
   "id": "7c5bbb9b",
   "metadata": {},
   "outputs": [],
   "source": [
    "system_context, user_prompt = helpers.solve_builder(response)\n",
    "\n",
    "\n",
    "messages=[{\"role\":\"system\",\"content\": system_context},\n",
    "          {\"role\":\"user\",\"content\": user_prompt}]\n",
    "response_answer = json.loads(gpt.chat(messages))"
   ]
  },
  {
   "cell_type": "code",
   "execution_count": 13,
   "id": "4cdcc13a",
   "metadata": {},
   "outputs": [
    {
     "data": {
      "text/plain": [
       "{'title': 'Avaliação de Gramaticalização',\n",
       " 'topics': [{'questions': [{'question': 'O que caracteriza a gramaticalização?',\n",
       "     'options': [{'option': 'A transformação de palavras de uma classe gramatical para outra.'},\n",
       "      {'option': 'A mudança de palavras de uma classe gramatical para outra.'},\n",
       "      {'option': 'A criação de novas palavras a partir de radicais existentes.'},\n",
       "      {'option': 'A exclusão de palavras obsoletas do vocabulário.'}],\n",
       "     'answer': 'A mudança de palavras de uma classe gramatical para outra.'},\n",
       "    {'question': 'Como a gramaticalização se manifesta na evolução das línguas?',\n",
       "     'options': [{'option': 'A simplificação da estrutura gramatical.'},\n",
       "      {'option': 'A complexificação das regras de pronúncia.'},\n",
       "      {'option': 'A transformação de advérbios em preposições.'},\n",
       "      {'option': 'A fusão de dialetos distintos em uma única língua.'}],\n",
       "     'answer': 'A transformação de advérbios em preposições.'},\n",
       "    {'question': \"Em quais das citações abaixo o verbo 'chegar' desempenha um papel mais próximo de seu sentido e função originais?\",\n",
       "     'options': [{'option': '2 e 3'},\n",
       "      {'option': '4 e 6'},\n",
       "      {'option': '4 e 5'},\n",
       "      {'option': '1 e 5'}],\n",
       "     'answer': '4 e 6'}]}]}"
      ]
     },
     "execution_count": 13,
     "metadata": {},
     "output_type": "execute_result"
    }
   ],
   "source": [
    "response_answer"
   ]
  },
  {
   "cell_type": "code",
   "execution_count": null,
   "id": "219353a4",
   "metadata": {},
   "outputs": [],
   "source": []
  },
  {
   "cell_type": "code",
   "execution_count": null,
   "id": "2b5713ec",
   "metadata": {},
   "outputs": [],
   "source": []
  },
  {
   "cell_type": "code",
   "execution_count": null,
   "id": "d53a340e",
   "metadata": {},
   "outputs": [],
   "source": []
  },
  {
   "cell_type": "code",
   "execution_count": null,
   "id": "ca77ce82",
   "metadata": {},
   "outputs": [],
   "source": []
  },
  {
   "cell_type": "code",
   "execution_count": null,
   "id": "602236d9",
   "metadata": {},
   "outputs": [],
   "source": []
  },
  {
   "cell_type": "code",
   "execution_count": null,
   "id": "74142ade",
   "metadata": {},
   "outputs": [],
   "source": []
  }
 ],
 "metadata": {
  "kernelspec": {
   "display_name": "hiring_task_env",
   "language": "python",
   "name": "hiring_task_env"
  },
  "language_info": {
   "codemirror_mode": {
    "name": "ipython",
    "version": 3
   },
   "file_extension": ".py",
   "mimetype": "text/x-python",
   "name": "python",
   "nbconvert_exporter": "python",
   "pygments_lexer": "ipython3",
   "version": "3.9.9"
  }
 },
 "nbformat": 4,
 "nbformat_minor": 5
}
