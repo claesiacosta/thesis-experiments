{
 "cells": [
  {
   "cell_type": "code",
   "execution_count": 62,
   "id": "08504650",
   "metadata": {},
   "outputs": [],
   "source": [
    "import PyPDF2, urllib.request , nltk , textract\n",
    "from io import BytesIO\n",
    "from pypdf import PdfReader \n",
    "import re"
   ]
  },
  {
   "cell_type": "code",
   "execution_count": 5,
   "id": "a3f5c222",
   "metadata": {},
   "outputs": [],
   "source": [
    "import ssl\n",
    "ssl._create_default_https_context = ssl._create_unverified_context"
   ]
  },
  {
   "cell_type": "code",
   "execution_count": 381,
   "id": "66f3042d",
   "metadata": {},
   "outputs": [],
   "source": [
    "# creating a pdf reader object \n",
    "reader = PdfReader('2023_PV_engenharia_da_computacao.pdf') \n",
    "reader2 = PdfReader('2021_PV_licenciatura_letras_portugues.pdf')"
   ]
  },
  {
   "cell_type": "code",
   "execution_count": 600,
   "id": "01bc1ffd",
   "metadata": {},
   "outputs": [],
   "source": [
    "questoes = []\n",
    "for index in range(4,reader2.get_num_pages()-3):\n",
    "    pageObj = reader2.get_page(index)\n",
    "    page = pageObj.extract_text()\n",
    "    pattern = re.compile(r'(\\d*)?(\\s*LETRAS - PORTUGUÊS\\s*)?(\\s*LOGO\\s*)?(\\d*)?(\\s*MATÉRIA\\s*)?(.*?)(\\s*Área livre\\s*)?(?=\\*\\d*\\*)', re.DOTALL)\n",
    "    quest = pattern.findall(page)\n",
    "    if len(quest)>0:\n",
    "        quest = quest[0][5]\n",
    "        for q in re.split('(?=QuestÃo|Quest Ão)', quest):\n",
    "            if(len(q)>1 and (q.startswith('QuestÃo') or q.startswith('Quest Ão'))):\n",
    "                questoes.append(q)\n",
    "            elif(len(q)>1):\n",
    "                questoes[-1] = questoes[-1] + '\\n' + q"
   ]
  },
  {
   "cell_type": "code",
   "execution_count": 603,
   "id": "a0efc855",
   "metadata": {},
   "outputs": [
    {
     "data": {
      "text/plain": [
       "['QuestÃo 01     \\n  A chance de uma criança de baixa renda ter um futuro melhor que a realidade em que nasceu está, \\nem maior ou menor grau, relacionada à escolaridade e ao nível de renda de seus pais. Nos países ricos, o \"elevador social\" anda mais rápido. Nos emergentes, mais devagar. No Brasil, ainda mais lentamente. \\nO país ocupa a segunda pior posição em um estudo sobre mobilidade social feito pela Organização \\npara a Cooperação e Desenvolvimento Econômico (OCDE), em 2018, com dados de 30 países. Segundo \\nos resultados, seriam necessárias nove gerações para que os descendentes de um brasileiro entre os 10% mais pobres ati  ngissem o nível médio de rendimento do país. A esti  mati  va é a mesma para a África do Sul e só perde para a Colômbia, onde o período de ascensão levaria 11 gerações. Mais de \\n1/3 daqueles que nascem entre os 20% mais pobres no Brasil permanece na base da pirâmide, enquanto \\napenas 7% consegue chegar aos 20% mais ricos. Filhos de pais na base da pirâmide têm difi  culdade de acesso à saúde e maior probabilidade de frequentar uma escola com ensino de baixa qualidade. A educação precária, em geral, limita as opções para esses jovens no mercado de trabalho. Sobram-lhes empregos de baixa remuneração, em que a possibilidade de crescimento salarial para quem tem pouca qualifi  cação é pequena – e a chance de perpetuação do ciclo de pobreza, grande.\\n  LEMOS, V. Brasil é o segundo pior em mobilidade social em  ranking  de 30 países. BBC News Brasil , 15 jun. 2018 (adaptado).\\n  A parti  r das informações apresentadas, é correto afi  rmar queA \\n   o fator ambiental e o fator demográfi  co afetam a mobilidade social observada, sendo ela menor nos \\npaíses que apresentam as maiores taxas de natalidade.\\nB   a baixa organização social dos economicamente menos favorecidos determina a baixa mobilidade social da base para o topo da pirâmide.\\nC  \\n a mobilidade social é caracterizada por um fator ancestral que se revela ao longo das gerações, sendo \\num limitador da efi  cácia de políti  cas públicas de redução das desigualdades sociais.\\nD   a análise de mobilidade social permite a observação de um ciclo vicioso, que se caracteriza por uma \\nsubida nas camadas sociais seguida de uma queda, repeti  ndo-se esse ciclo de modo sucessivo.\\nE   a ascensão social depende de fatores viabilizadores que estão fora do alcance das camadas pobres, \\no que ocasiona confl  itos sociais em busca do acesso a tais fatores.',\n",
       " 'QuestÃo 02      \\n   t e x t o  I\\n    \\n   Disponível em: htt  ps://www.facebook.com/embrapa/photos/a.609357055926350/733391400189581/?type=1&theater. \\nAcesso em: 27 maio 2020.\\n   \\n\\ntexto II\\n   Em alguns países da Europa, permite-se que um produto de menor valor estéti  co seja comercializado. \\nEstamos falando de um pepino deformado ou de uma cebola pequena, mas não de um produto contaminado com resíduos químicos ou agentes biológicos. No caso do Brasil, o problema vai além da aparência, porque há hortaliças ruins – contaminadas, murchas, machucadas – que chegam às bancas para ser comercializadas.\\n  Mas, se nos dois contextos há perda de alimentos e preconceito em relação às hortaliças fora do padrão \\nvisual, mas boas para o consumo, quais seriam as alternati  vas para evitar o desperdício e melhorar a \\nqualidade dos produtos? Para os pesquisadores do assunto, não adianta replicar a experiência europeia no Brasil, de exigir hortaliças esteti  camente perfeitas, porque também teríamos produtos sendo desprezados ainda na etapa de produção. Não devemos passar de um mercado pouco exigente, que gera desperdício \\nno varejo e nas residências, para um mercado exigente que gera perda no campo.  A solução do problema é conscienti  zar os diversos elos da cadeia produti  va, especialmente varejistas e consumidores, para que sejam esclarecidos sobre quais aspectos da aparência das hortaliças comprometem a qualidade. Quanto maior a exigência do mercado por hortaliças de aparência perfeita, maior o desperdício de alimentos. Por sua vez, quanto maior a exigência por hortaliças sem danos, causados pela falta de cuidado e pela falta de higiene, menor será a perda de alimentos e maior a qualidade da alimentação da população brasileira.\\n  Disponível em: htt  ps://www.embrapa.br/busca-de-noti  cias/-/noti  cia/29626389/manuseio-correto-preserva-a-qualidade-e\\n-a-vida-uti  l-das-hortalicas. Acesso em: 27 maio 2020 (adaptado).\\n  Considerando as informações apresentadas nos textos, avalie as asserções a seguir e a relação proposta \\nentre elas.\\nI.   O texto I sinteti  za uma informação principal do texto II, ao apresentar critérios disti  nti  vos de alterações visuais que têm efeitos puramente estéti  cos em produtos alimentí  cios daquelas que têm implicações na qualidade desses produtos.\\n   PorQue\\nII.    O texto II divulga que o aumento das perdas na cadeia produti  va de hortaliças no Brasil é proporcional à elevação de exigências dos consumidores pela aparência de produtos agropecuários.\\n  A respeito dessas asserções, assinale a opção correta.A    As asserções I e II são proposições verdadeiras, e a II é uma justi  fi  cati  va correta da I.\\nB   As asserções I e II são proposições verdadeiras, mas a II não é uma justi  fi  cati  va correta da I.\\nC   A asserção I é uma proposição verdadeira, e a II é uma proposição falsa.\\nD   A asserção I é uma proposição falsa, e a II é uma proposição verdadeira.\\nE   As asserções I e II são proposições falsas.',\n",
       " 'QuestÃo 03      \\n   t e x t o  I\\n   Na Alemanha nazista, no auge da Segunda Guerra Mundial, surgiu a necessidade de abrir mais espaço para os veículos automoti  vos. Com muitos ciclistas, as bicicletas viraram um empecilho, forçando a criação de um espaço exclusivo para elas – talvez as primeiras ciclovias do mundo. Mas, se na década de 1940 os veículos eram prioridade, hoje, o uso de bicicletas – e das ciclovias – surge como uma das principais alternati  vas para melhorar a qualidade de vida nas grandes metrópoles. Quando políti  cas públicas incenti  vam o uso de bicicletas como meio de transporte para curtas e médias distâncias, um novo panorama se abre.\\n  COSTA, J. Ciclovias ajudam a humanizar o espaço urbano.  Ciência e Cultura  . v.   68, n.   2, São Paulo, 2016 (adaptado) . \\n   texto II\\n    \\n   Disponível em: htt  p://dopedal.blogspot.com/2012/05/charge-do-silverio-voz-da-serra.html. Acesso em: 29 de abr. 2020.\\n  Considerando as informações apresentadas e o uso de bicicletas como alternati  va para melhorar a qualidade de vida nas cidades, avalie as afi  rmações a seguir.\\nI.   Dado que as bicicletas são veículos que ocupam pouco espaço na malha viária, prescinde-se de \\ninvesti  mentos públicos em construção de ciclovias, sendo prioritárias campanhas de conscienti  zação \\nde motoristas a respeito dos benefí  cios do uso da bicicleta como meio de transporte.\\nII.   O uso das bicicletas como meio de transporte contribui para a melhoria da qualidade de vida nas grandes metrópoles, pois elas não emitem poluentes, além de esse uso proporcionar a práti  ca de \\nati  vidade fí  sica.\\nIII.   A parti  r da Segunda Guerra Mundial, durante o governo da Alemanha nazista, o uso da bicicleta \\ncomo meio de transporte tornou-se efi  caz e passou a prevalecer nas cidades europeias.\\n  É correto o que se afi  rma emA    I, apenas.\\nB   II, apenas.\\nC   I e III, apenas.\\nD   II e III, apenas.\\nE   I, II e III.\\n',\n",
       " 'QuestÃo 04      \\n  Além do contexto econômico, o avanço da tecnologia também é um dos responsáveis pelo aumento dos \\ntrabalhadores informais. E a tendência de contratação de  freelancers   por meio de plataformas digitais, \\ncomo aplicati  vos de  delivery  e de mobilidade urbana, ganhou até um nome:  Gig Economy  , ou economia \\ndos bicos. Para os gigantes de tecnologia detentores desses aplicati  vos, os motoristas são trabalhadores \\nautônomos, que não possuem vínculo empregatí  cio. Além de não estarem sujeitos a nenhuma regulamentação e proteção legal, os profi  ssionais que desenvolvem esse ti  po de trabalho deixam de contribuir para a Previdência Social e de possuir benefí  cios como Fundo de Garanti  a por Tempo de \\nServiço (FGTS), férias e décimo terceiro salário. Não obstante, ainda arcam com todo o custo da ati  vidade que exercem. Em uma reportagem que ouviu alguns desses trabalhadores, motoristas afi  rmaram sofrer \\ncom problemas de coluna e com o estresse no trânsito, além das longas jornadas de trabalho. Por esses moti  vos, a  Gig Economy  está no centro de uma discussão mundial acerca da responsabilidade dessas \\ncompanhias milionárias sobre as condições de trabalho da mão de obra que contratam. No meio do limbo \\njurídico, quem sofre são os trabalhadores dessas plataformas, que fi  cam duplamente desprotegidos ― pelas empresas e pelo Estado.\\n  Disponível em: htt  ps://exame.abril.com.br/carreira/quais-sao-as-consequencia-do-trabalho-informal-no-pais/. \\nAcesso em: 18 abr. 2020 (adaptado).\\n  A parti  r das informações apresentadas, avalie as asserções a seguir e a relação proposta entre elas.\\nI.   Trabalhadores autônomos informais que atuam em plataformas digitais sem qualquer vínculo empregatí  cio, desprotegidos de regulamentação ou lei trabalhista, compõem a  Gig Economy .\\n   PorQue\\nII.    Os trabalhadores, na  Gig Economy , arcam com todos os custos necessários para desempenhar \\no seu trabalho, ganham por produção e enfrentam longas jornadas diárias, o que os deixa mais desgastados e com problemas de saúde.\\n  A respeito dessas asserções, assinale a opção correta.A    As asserções I e II são proposições verdadeiras, e a II é uma justi  fi  cati  va correta da I.\\nB   As asserções I e II são proposições verdadeiras, mas a II não é uma justi  fi  cati  va correta da I.\\nC   A asserção I é uma proposição verdadeira, e a II é uma proposição falsa.\\nD   A asserção I é uma proposição falsa, e a II é uma proposição verdadeira.\\nE   As asserções I e II são proposições falsas.',\n",
       " 'QuestÃo 05      \\n   t e x t o  I\\n   Segundo o Ministério da Saúde, em 2017 o Brasil registrou uma média nacional de 5,7 óbitos para \\n100 mil habitantes. Na população indígena, foi registrado um número de óbitos três vezes maior que \\na média nacional – 15,2. Destes registros, 44,8% (aproximadamente, 6,8 óbitos), são suicídios de crianças e adolescentes entre 10 e 19 anos. Esses dados contrastam com o panorama nacional, em que o maior índice é entre adolescentes e adultos de 15 a 20 anos.\\n  Disponível em: htt  ps://www.cvv.org.br/blog/o-suicidio-do-povo-indigena/. Acesso em: 30 de abr. 2020 (adaptado).\\n   texto II\\n   Evidências apontam que, em determinadas minorias étnico-raciais, como os indígenas (aborígines ou \\npopulações nati  vas), o suicídio entre crianças apresenta taxas bem mais elevadas do que as observadas na população geral. No Brasil, o enforcamento foi uti  lizado mais frequentemente entre indígenas do que \\nentre não indígenas, não se observando, no primeiro grupo, suicídios por intoxicação ou por armas de fogo. O mapa a seguir apresenta a distribuição dos óbitos por suicídio entre crianças e adolescentes indígenas no Brasil, entre os anos de 2010 e 2014.\\n   \\n   SOUZA, M. Mortalidade por suicídio entre crianças indígenas no Brasil. Caderno de saúde Pública, v.35, Rio de Janeiro, 2019 (adaptado).\\nConsiderando as informações apresentadas e o alto índice de suicídio da população indígena, avalie as afi  rmações a seguir.\\nI.   O elevado índice de suicídios entre crianças e adolescentes indígenas no país evidencia a necessidade de ações com foco nos direitos fundamentais desses indivíduos.\\nII.   Os estados do Pará e de Tocanti  ns s\\não os que possuem os maiores índices de suicídio de indígenas \\nna faixa etária de 10 a 14 anos.\\nIII.   Os povos das tribos originárias do Brasil, no que tange a sua história e preservação cultural, \\nnão estão amparados por direitos e garantias constitucionais.\\nIV.   O estabelecimento de ações preventi  vas ao suicídio nas comunidades indígenas deve considerar \\nos elementos globais que afetam a população em geral, na faixa etária entre 15 e 20 anos.\\n  É correto apenas o que se afi  rma emA    I .\\nB   I I .\\nC   I e III.\\nD   II e IV.\\nE   III e IV.\\n',\n",
       " 'QuestÃo 06      \\n  A pandemia ocasionada pelo novo Coronavírus gerou impactos negati  vos na economia e nos negócios, \\nintensifi  cando problemas sociais no mundo todo. Nos Estados Unidos, um estudo realizado com a parceria de duas importantes universidades verifi  cou que a expectati  va de vida dos norte-americanos \\ncaiu 1,1 ano em 2020. A nova expectati  va é de 77,4 anos. De acordo com o estudo, esta foi a maior queda anual da expectati  va de vida já registrada nos últi  mos 40 anos.   O declínio é ainda maior se considerada a expectati  va de vida para negros que moram no país, cuja queda foi de 2,1 anos. Para a população lati  na, essa queda foi de 3 anos. O declínio na expectati  va de vida dos lati  nos é signifi  cati  vo, uma vez que eles apresentam menor incidência de condições crônicas que são fatores de risco para a Covid-19 em relação \\nàs populações de brancos e negros.\\n  LOUREIRO, R. Covid-19 reduz gravemente expectativa de vida de negros e latinos nos EUA. revista exame , 2021 (adaptado).    \\nConsiderando as informações apresentadas no texto, avalie as asserções a seguir e a relação proposta entre elas.\\nI. \\n  O efeito desproporcional da pandemia da Covid-19 na expectati  va de vida da população negra e \\nlati  no-americana estabelece relação com sua situação de vulnerabilidade social.\\n  PorQue\\nII.   Uma hipótese que pode ser levantada quanto à diminuição da expectati  va de vida de negros e lati  no-americanos está relacionada às suas precárias condições de trabalho, levando-os a maior possibilidade de exposição ao contágio pelo novo Coronavírus.\\n  A respeito dessas asserções, assinale a opção correta.A    As asserções I e II são proposições verdadeiras, e a II é uma justi  fi  cati  va correta da I.\\nB   As asserções I e II são proposições verdadeiras, mas a II não é uma justi  fi  cati  va correta da I.\\nC   A asserção I é uma proposição verdadeira, e a II é uma proposição falsa.\\nD   A asserção I é uma proposição falsa, e a II é uma proposição verdadeira.\\nE   As asserções I e II são proposições falsas.',\n",
       " 'QuestÃo 07      \\n   t e x t o  I\\n   O estudo  Internet and American Life Project  , do  Pew Research Center  , demonstrou que, em 2009, \\nmetade das buscas de temas relacionados à saúde na internet era feita para terceiros, e quase seis em \\ncada dez pessoas que usaram meios digitais para se informar sobre saúde mudaram o enfoque com que cuidavam da própria saúde ou da de algum parente. Esti  ma-se que exista uma correlação positi  va entre o grau de conhecimento das doenças (seus fatores de risco, formas de prevenção e tratamento) e a taxa de adoção de hábitos saudáveis pela sociedade. O aumento nos diagnósti  cos precoces do câncer de mama \\ne a diminuição do tabagismo são dois exemplos clássicos a favor dessa ideia. Acredita-se que indivíduos mais bem informados aderem a comportamentos preventi  vos e reagem melhor a uma enfermidade.\\n  Infelizmente, a divulgação de temas médicos é uma faca de dois gumes: quem não sabe nada está mais \\nperto da verdade do que a pessoa cuja mente está cheia de informações equivocadas. Conseguir que a mensagem seja bem decodifi  cada pelos receptores é o grande desafi  o que preocupa (ou deveria preocupar) tanto médicos quanto jornalistas.\\n  TABAKMAN, R.  a saúde na mídia  : medicina para jornalistas, jornalismo para médicos. Trad. Lizandra Magon de Almeida. \\nSão Paulo: Summus Editorial, 2013 (adaptado).\\n  texto II\\n  De acordo com os dados da últi  ma TIC Domicílios — pesquisa realizada anualmente com o objeti  vo de mapear formas de uso das tecnologias de informação e comunicação no país —, aproximadamente \\n46% dos usuários de Internet no Brasil uti  lizam a rede à procura de informações médicas sobre saúde em geral e serviços de saúde. Para uma médica e pesquisadora da Fiocruz, os indivíduos sempre procuraram informações sobre seu estado de saúde, mas é inegável que o surgimento da Internet trouxe um aumento signifi  cati  vo do acesso a informações amplifi  cando assim os refl  exos deste processo e alterando a relação \\nentre os indivíduos. A pesquisadora chama a atenção para o perigo do autodiagnósti  co e da automedicação, \\nque podem gerar consequências nefastas tanto para os indivíduos quanto para a saúde pública, uma vez \\nque boa parte dos estudos mostra que não são adotados critérios durante as buscas na Internet.\\n  Disponível em: htt  ps://agencia.fi  ocruz.br/conteudos-sobre-saude-na-web-alteram-relacao-medico-paciente. Acesso em: 16 abr. 2020 (adaptado).\\n  Considerando a abordagem dos textos, avalie as afi  rmações a seguir.\\nI.   Os textos I e II evidenciam a importância de critérios nas buscas realizadas pelos usuários da \\nInternet por informações sobre patologias, pois algumas informações podem trazer riscos à saúde \\npor fomentarem a compreensão equivocada de sintomas e profi  laxias.\\nII.   O texto I afi  rma que a disponibilização de informações sobre temas de saúde nos meios de comunicação tem contribuído para o esclarecimento da população acerca de hábitos saudáveis.\\nIII. \\n  No texto II, defende-se o acesso a informações relati  vas a pesquisas da área da saúde nos veículos \\nde comunicação, pois elas permitem que o indivíduo seja proati  vo na prevenção de patologias.\\n  É correto o que se afi  rma emA    I, apenas.\\nB   III, apenas.\\nC   I e II, apenas.\\nD   II e III, apenas.\\nE   I, II e III.',\n",
       " 'QuestÃo 08      \\n  Que é democracia? Em seu famoso discurso em Gett  ysburg, Abraham Lincoln disse que “a democracia \\né o governo do povo, feito para o povo e pelo povo, e responsável perante o povo”. O crédito desta \\ndefi  nição é, na verdade, de Daniel Webster, que a elaborou 33 anos antes de Lincoln em outro discurso. Nesta ideia de “governo pelo povo e para o povo” surge uma questão essencial: e quando o povo esti  ver \\nem desacordo? E quando o povo ti  ver preferências divergentes? O politólogo Arend Lijphart ressalta que há duas respostas principais: a resposta da “democracia majoritária” e a resposta da “democracia consensual”. Na democracia majoritária, a resposta é simples e direta: deve-se governar para a maioria \\ndo povo. A resposta alternati  va, no modelo da democracia consensual é: deve-se governar para o máximo \\npossível de pessoas.  A virtude da democracia consensual é buscar consensos mais amplos no que é interesse de todos;o desafi  o da democracia consensual pressupõe lideranças políti  cas mais maduras, tanto no governo quanto na oposição. Democratas genuínos têm aversão à ideia do totalitarismo e combatem os delírios daqueles que desejam poder sem limites.\\n  Disponível em: htt  ps://g1.globo.com/politi  ca/blog/matheus-leitao/post/2020/02/25/democracia-consensual-contra-a-ti  rania-da-maioria.ghtml. \\nAcesso em: 2 maio 2020 (adaptado).\\n  A parti  r dos argumentos expostos no texto, avalie as afi  rmações a seguir.\\nI.   O bem comum, a ser estabelecido por um governo democráti  co, nem sempre está associado às \\nopiniões da maioria do povo.\\nII.   A democracia consensual é caracterizada pelo consenso a ser alcançado entre situação e oposição, \\nnas decisões governamentais.\\nIII.   Circunstâncias políti  cas de polarização, marcadas pela alta competi  ti  vidade e combati  vidade entre \\nposições divergentes, caracterizam um modelo de democracia majoritária.\\nIV.   Democracia consensual pressupõe que a situação políti  ca no poder considere em suas decisões as \\nnecessidades das minorias, no senti  do de governar para todo o povo.\\n  É correto apenas o que se afi  rma emA   I e II.\\nB   I e IV.\\nC   II e III.\\nD   I, III e IV.\\nE   II, III e IV.',\n",
       " 'QuestÃo 31       \\n  Os quilombolas, compreendidos também como povos ou comunidades tradicionais, exigem que as políti  cas públicas a eles desti  nadas considerem a sua inter-relação com as dimensões históricas, políti  cas, econômicas, sociais, culturais e educacionais que acompanham a consti  tuição dos quilombos no Brasil. Consequentemente, a Educação Escolar Quilombola não pode ser pensada somente se levando em conta os aspectos normati  vos, burocráti  cos e insti  tucionais relacionados à confi  guração das políti  cas educacionais. A sua implementação deverá ser sempre acompanhada de consulta prévia e realizada pelo poder público junto às comunidades quilombolas e suas organizações.\\n  BRASIL/CNE. Parecer CNe/CeB n. 16/2012 . Diretrizes Curriculares \\nNacionais para a Educação Escolar Quilombola, 2012 (adaptado).\\n  Considerando o texto e as discussões sobre políti  cas de arti  culação escola/comunidade quilombola, avalie as afi  rmações a seguir.\\nI.   A relação entre educação e movimentos sociais na educação quilombola objeti  va adequar essa organização cultural ao sistema educacional.\\nII.   A história, a memória, o território, a ancestralidade e os conhecimentos tradicionais da comunidade quilombola são aspectos considerados na garanti  a do direito à educação quilombola.\\nIII.   O papel da comunidade quilombola é determinante nos processos decisórios acerca da educação escolar a ser nela implementada.\\n  É correto o que se afi  rma emA   I, apenas.\\nB   II, apenas.\\nC   I e III, apenas.\\nD   II e III, apenas.\\nE   I, II e III.  ',\n",
       " 'QuestÃo 32     \\n  O pensamento de Paulo Freire – a sua teoria do conhecimento – deve ser entendido no contexto \\nem que surgiu o Nordeste brasileiro, onde, no início da década de 1960, metade de seus 30 milhões de \\nhabitantes vivia na “cultura do silêncio”, como ele \\ndizia, isto é, eram analfabetos. Era preciso “dar-lhes a palavra” para que transitassem para a parti  cipação \\nna construção de um Brasil que fosse dono de seu próprio desti  no e que superasse o colonialismo.\\n   GADOTTI, Moacir.  Paulo Freire  : uma bibliografi  a. \\nSão Paulo: Cortez, 1996.\\n  Com base no texto e nas ideias freireanas, avalie as \\nasserções a seguir e a relação proposta entre elas.\\nI.   Paulo Freire denunciou a opressão e a exclusão gerada pela supressão do direito à educação e à cidadania, defendendo a educação como uma empreitada coleti  va.\\n   PorQue\\nII.   A educação deve ser compreendida como um ato políti  co, pois deve incenti  var a refl  exão e a ação consciente e criati  va do sujeito em seu processo de libertação.\\n  A respeito dessas asserções, assinale a opção correta.\\nA   As asserções I e II são proposições verdadeiras, \\ne a II é uma justi  fi  cati  va correta da I.\\nB   As asserções I e II são proposições verdadeiras, \\nmas a II não é uma justi  fi  cati  va correta da I.\\nC   A asserção I é uma proposição verdadeira, e a II \\né uma proposição falsa.\\nD   A asserção I é uma proposição falsa, e a II é uma \\nproposição verdadeira.\\nE   As asserções I e II são proposições falsas.',\n",
       " 'QuestÃo 33     \\n  O Decreto n. 5.626/2005, que dispõe sobre a Língua Brasileira de Sinais (Libras) considera a pessoa surda como aquela que, por ter perda auditi  va, compreende e interage com o mundo por meio de experiências visuais. Em consonância com o decreto, nas escolas públicas em que há crianças surdas \\nou com defi  ciência auditi  va matriculadas, faz-se necessário o desenvolvimento de práti  cas capazes de \\ngaranti  r o seu direito à educação.\\n  Disponível em: htt  p://www.planalto.gov.br/ccivil_03/_Ato2004-2006/2005/Decreto/D5626.htm. Acesso em 20 abr. 2020 (adaptado).\\n  Considerando as ações necessárias para a escola garanti  r o direito à educação das crianças surdas, avalie \\nas afi  rmações a seguir.\\nI.   É necessário criar situações em sala de aula que promovam o convívio social entres as crianças, \\nque esti  mule o respeito às diferenças, promovendo o reconhecimento das suas potencialidades e \\no desenvolvimento afeti  vo, cogniti  vo, linguísti  co e sociocultural.\\nII.   A Libras deve ser assegurada como a primeira língua da criança surda, considerando-se a Língua \\nPortuguesa, na modalidade escrita, como a segunda.\\nIII.   É fundamental disponibilizar intérpretes de Libras para as crianças surdas, e caso não seja possível, \\né preciso solicitar aos familiares que procurem outra escola mais preparada.\\nIV.   A escola deve fomentar parcerias com os pais com o objeti  vo de acolhê-los e ajudá-los a consti  tuir \\numa imagem positi  va de seu fi  lho surdo, auxiliando-o na compreensão da sua realidade.\\nV.   Os professores precisam desenvolver, em relação aos alunos surdos, processos de avaliação mais \\nsubjeti  vos com foco nas difi  culdades de aprendizagem desses alunos.\\n  É correto apenas o que se afi  rma emA   I e V.\\nB   II e III.\\nC   I, II e IV.\\nD   I, III, IV e V.\\nE   II, III, IV e V.',\n",
       " 'QuestÃo 34     \\n    As percepções sobre o termo liderança revelam uma confi  guração ainda precária da realidade brasileira no campo da gestão escolar. As pesquisas internacionais apresentam uma gama signifi  cati  va de resultados sobre o tema há, pelo menos, mais de duas décadas. Vale lembrar que os estudos sobre escolas efi  cazes, \\nna sua maioria, apontam o efeito da liderança do gestor como um dos principais fatores explicati  vos \\ndessa equação. Um sobrevoo nos dados da pesquisa Olhares Coti  dianos sobre a Gestão Escolar (OCGE), realizada com gestores e professores de seis escolas de um município brasileiro, permite identi  fi  car, de forma geral, noções sobre o termo, ao se solicitar ao grupo algum ti  po de caracterização mais precisa de \\nliderança:  \"Isso aí é uma coisa que se tem ou não se tem.\" (Ana, Grupo Liderança).   \"O dom da palavra, do convencimento...\" (Andrea, Grupo Liderança).   \"Carisma\" (Cínti  a, Grupo Liderança).   \"A pessoa nasce com isso ou não.\" (Adriana, Grupo Liderança).\\n    COELHO, F. M. O Coti  diano da Gestão Escolar: o método de caso na sistemati  zação de problemas. \\neducação & realidade , Porto Alegre, v. 40, n. 4, out./dez. 2015, p. 1.261-1.276 (adaptado).\\n  Relacionando as ideias de liderança expostas pelas parti  cipantes da pesquisa sobre o exercício da gestão escolar, avalie as afi  rmações a seguir.\\nI. \\n  As respostas de Ana e Adriana reforçam as concepções defendidas pelas investi  gações cientí  fi  cas do campo educacional contemporâneo sobre liderança, que afi  rmam que nem todos podem ser \\ngestores escolares e que é preciso ter a qualidade de empreendedor para ocupar esse cargo. \\nII.   Ana e Cínti  a expõem ideias que são coerentes com os estudos atuais sobre a práti  ca da gestão escolar, pois enfati  zam o esti  lo administrati  vo do gestor, que é um fator fundamental para se compreender a liderança e as suas relações com os objeti  vos educacionais das escolas.\\nIII. \\n  Em suas respostas, Andrea e Cínti  a expressam a ideia de liderança a parti  r de um de seus aspectos, o interpessoal, embora outros fatores relevantes interfi  ram na gestão escolar, como o administrati  vo \\ne/ou o pedagógico.\\nIV.   As afi  rmações das parti  cipantes relacionam a liderança a uma capacidade de convencimento e a uma habilidade inata do líder – concepções já ultrapassadas pelas investi  gações educacionais sobre o tema no cenário contemporâneo.\\n  É correto apenas o que se afi  rma emA   I e IV.\\nB   II e III.\\nC   III e IV.\\nD   I, II e III.\\nE   I, II e IV.',\n",
       " 'QuestÃo 35     \\n   As    redes sociais promovem formas de interação entre indivíduos agrupados por interesses mútuos, identi  dades semelhantes e também por valores comparti  lhados. Nesse contexto, a Internet vem se tornando  um importante espaço para movimentos sociais por possibilitar uma acelerada e ampla difusão de ideias e absorção de novos elementos em busca de algo em comum. Assim, o  s movimentos \\nsociais se fazem valer cada vez mais da “ democracia informaciona l”, da “ ciberdemocracia”  e da práti  ca do \\n“ ciberati  vismo”.      A parti  r das ideias sobre comunicação e interação virtual, avalie as afi  rmações a seguir.\\nI.   Os movimentos sociais tendem a perder força, prestí  gio e visibilidade com o crescimento da virtualidade junto à nova geração de jovens e adultos.\\nII.   Ciberdemocracia, democracia informacional e ciberati  vismo podem ser classifi  cados como movimentos advindos da virtualidade.\\nIII. \\n  As redes sociais potencializam o ati  vismo fazendo uso da virtualidade, no entanto, ainda são pouco \\nexploradas pelos movimentos sociais da atualidade.\\nIV.   Tempo e espaço são conceitos a serem repensados a parti  r da inserção cada vez maior da virtualidade na vida social.\\nV. \\n  É papel do educador formar e preparar os alunos para uma atuação responsável e críti  ca frente à \\nvirtualidade, explorando suas potencialidades.\\n  É correto apenas o que se afi  rma emA    I, II, e III.\\nB   I, III e IV.\\nC   I, IV e V.\\nD   II, III e V.\\nE II, IV e V.']"
      ]
     },
     "execution_count": 603,
     "metadata": {},
     "output_type": "execute_result"
    }
   ],
   "source": [
    "questoes"
   ]
  },
  {
   "cell_type": "code",
   "execution_count": 608,
   "id": "cda8f63d",
   "metadata": {},
   "outputs": [
    {
     "name": "stdout",
     "output_type": "stream",
     "text": [
      "20 LETRAS - PORTUGUÊSQuest Ão 10 \n",
      "texto  I\n",
      "Havia uma aldeia em algum lugar, nem maior nem menor, com velhos e velhas que velhavam, homens e mulheres que esperavam, e meninos e meninas que nasciam e cresciam. Todos com juízo, suficientemente, menos uma meninazinha, a que por enquanto. Aquela, um dia, saiu de lá, com uma fita inventada no cabelo.\n",
      "ROSA, J. G. Fita verde no cabelo (nova velha história) . Rio de Janeiro: Nova Fronteira, 1998.\n",
      "texto  II\n",
      "Hoje, eu sei: meu pai tinha perdido os Nortes. Ele vislumbrava coisas que ninguém mais reconhecia. Essas aparições aconteciam, sobretudo, nas grandes ventanias que, em setembro, varrem as savanas. O vento era, para Silvestre, uma dança de fantasmas. As árvores, ventadas, convertiam-se em pessoas, eram mortos que se lamentavam, a querer arrancar as suas próprias raízes. Assim falava Silvestre Vitalício, enclausurado no quarto e barricado atrás de janelas e portas, à espera que a bonança chegasse.- O vento está cheio de doenças, o vento é, todo ele, uma contagiosa enfermidade.Nesses dias de tempestade, o velho não autorizava que ninguém saísse do quarto. Convocava-me para ficar a seu lado, e eu tentava, em vão, engordar silêncios.\n",
      "COUTO, M. antes de nascer o mundo. São Paulo: Companhia das Letras, 2009.\n",
      "texto  III\n",
      "Antes de ser para a comunicação, a linguagem é para a elaboração; e antes de ser mensagem, a linguagem é construção do pensamento; e antes de ser veículo de sentimentos, ideias, emoções, aspirações, a linguagem é um processo criador.\n",
      "FRANCHI, C. Linguagem : atividade constitutiva. São Paulo: Parábola Editorial, 2011 (adaptado).\n",
      "A partir da leitura dos textos apresentados, avalie as afirmações a seguir.\n",
      "I. As operações morfológicas, fonéticas e/ou sintáticas atuam enquanto elementos (re)criadores da língua e delas emergem uma nova semântica e uma língua reativada em textos literários.\n",
      "II. O escritor brasileiro e o escritor moçambicano são atentos à oralidade regional em que se inserem, registrando-a e empregando neologismos em seus textos.\n",
      "III. Os princípios canônicos, aceitos como esteticamente válidos para se reconhecer um padrão literário, baseiam-se em elementos como o diferente e o inusitado.\n",
      "É correto o que se afirma emA I, apenas.\n",
      "B III, apenas.\n",
      "C I e II, apenas.\n",
      "D II e III, apenas.\n",
      "E I, II e III.\n",
      "Área livre*r19202120*\n"
     ]
    }
   ],
   "source": [
    "pageObj2 = reader2.get_page(19)\n",
    "page32 = pageObj2.extract_text()\n",
    "print(page32)"
   ]
  },
  {
   "cell_type": "code",
   "execution_count": 425,
   "id": "33c9e6c3",
   "metadata": {},
   "outputs": [],
   "source": [
    "#pattern = re.compile(r'(\\d*)?(\\s*Engenharia de Computação\\s*)?(\\s*LOGO\\s*)?(\\d*)?(\\s*MATÉRIA\\s*)?(.*?)(?=\\*R082023\\d+\\*)', re.DOTALL)"
   ]
  },
  {
   "cell_type": "code",
   "execution_count": 426,
   "id": "06c19dd7",
   "metadata": {},
   "outputs": [],
   "source": [
    "#pattern = re.compile(r'\\d*\\s*Engenharia de Computação\\s*\\d*\\s*(.*?)(?=\\*R082023\\d+\\*)', re.DOTALL)"
   ]
  },
  {
   "cell_type": "code",
   "execution_count": null,
   "id": "147bef4d",
   "metadata": {},
   "outputs": [],
   "source": []
  },
  {
   "cell_type": "code",
   "execution_count": 609,
   "id": "3a83bb81",
   "metadata": {},
   "outputs": [],
   "source": [
    "text = '''20 LETRAS - PORTUGUÊSQuest Ão 10 \n",
    "texto  I\n",
    "Havia uma aldeia em algum lugar, nem maior nem menor, com velhos e velhas que velhavam, homens e mulheres que esperavam, e meninos e meninas que nasciam e cresciam. Todos com juízo, suficientemente, menos uma meninazinha, a que por enquanto. Aquela, um dia, saiu de lá, com uma fita inventada no cabelo.\n",
    "ROSA, J. G. Fita verde no cabelo (nova velha história) . Rio de Janeiro: Nova Fronteira, 1998.\n",
    "texto  II\n",
    "Hoje, eu sei: meu pai tinha perdido os Nortes. Ele vislumbrava coisas que ninguém mais reconhecia. Essas aparições aconteciam, sobretudo, nas grandes ventanias que, em setembro, varrem as savanas. O vento era, para Silvestre, uma dança de fantasmas. As árvores, ventadas, convertiam-se em pessoas, eram mortos que se lamentavam, a querer arrancar as suas próprias raízes. Assim falava Silvestre Vitalício, enclausurado no quarto e barricado atrás de janelas e portas, à espera que a bonança chegasse.- O vento está cheio de doenças, o vento é, todo ele, uma contagiosa enfermidade.Nesses dias de tempestade, o velho não autorizava que ninguém saísse do quarto. Convocava-me para ficar a seu lado, e eu tentava, em vão, engordar silêncios.\n",
    "COUTO, M. antes de nascer o mundo. São Paulo: Companhia das Letras, 2009.\n",
    "texto  III\n",
    "Antes de ser para a comunicação, a linguagem é para a elaboração; e antes de ser mensagem, a linguagem é construção do pensamento; e antes de ser veículo de sentimentos, ideias, emoções, aspirações, a linguagem é um processo criador.\n",
    "FRANCHI, C. Linguagem : atividade constitutiva. São Paulo: Parábola Editorial, 2011 (adaptado).\n",
    "A partir da leitura dos textos apresentados, avalie as afirmações a seguir.\n",
    "I. As operações morfológicas, fonéticas e/ou sintáticas atuam enquanto elementos (re)criadores da língua e delas emergem uma nova semântica e uma língua reativada em textos literários.\n",
    "II. O escritor brasileiro e o escritor moçambicano são atentos à oralidade regional em que se inserem, registrando-a e empregando neologismos em seus textos.\n",
    "III. Os princípios canônicos, aceitos como esteticamente válidos para se reconhecer um padrão literário, baseiam-se em elementos como o diferente e o inusitado.\n",
    "É correto o que se afirma emA I, apenas.\n",
    "B III, apenas.\n",
    "C I e II, apenas.\n",
    "D II e III, apenas.\n",
    "E I, II e III.\n",
    "Área livre*r19202120*'''"
   ]
  },
  {
   "cell_type": "code",
   "execution_count": 610,
   "id": "f18bb84f",
   "metadata": {},
   "outputs": [],
   "source": [
    "pattern = re.compile(r'(\\d*)?(\\s*LETRAS - PORTUGUÊS\\s*)?(\\s*LOGO\\s*)?(\\d*)?(\\s*MATÉRIA\\s*)?(.*?)(?=\\*\\d*\\*)', re.DOTALL)"
   ]
  },
  {
   "cell_type": "code",
   "execution_count": 611,
   "id": "3c24c316",
   "metadata": {},
   "outputs": [
    {
     "data": {
      "text/plain": [
       "0"
      ]
     },
     "execution_count": 611,
     "metadata": {},
     "output_type": "execute_result"
    }
   ],
   "source": [
    "len(pattern.findall(text))"
   ]
  },
  {
   "cell_type": "code",
   "execution_count": null,
   "id": "6442ba3f",
   "metadata": {},
   "outputs": [],
   "source": []
  },
  {
   "cell_type": "code",
   "execution_count": null,
   "id": "0f935022",
   "metadata": {},
   "outputs": [],
   "source": []
  }
 ],
 "metadata": {
  "kernelspec": {
   "display_name": "hiring_task_env",
   "language": "python",
   "name": "hiring_task_env"
  },
  "language_info": {
   "codemirror_mode": {
    "name": "ipython",
    "version": 3
   },
   "file_extension": ".py",
   "mimetype": "text/x-python",
   "name": "python",
   "nbconvert_exporter": "python",
   "pygments_lexer": "ipython3",
   "version": "3.9.9"
  }
 },
 "nbformat": 4,
 "nbformat_minor": 5
}
